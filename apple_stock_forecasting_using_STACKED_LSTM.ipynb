{
  "nbformat": 4,
  "nbformat_minor": 0,
  "metadata": {
    "colab": {
      "provenance": [],
      "gpuType": "T4",
      "authorship_tag": "ABX9TyMzx8Ubk4ikFqEpVdZaXBFY",
      "include_colab_link": true
    },
    "kernelspec": {
      "name": "python3",
      "display_name": "Python 3"
    },
    "language_info": {
      "name": "python"
    },
    "accelerator": "GPU"
  },
  "cells": [
    {
      "cell_type": "markdown",
      "metadata": {
        "id": "view-in-github",
        "colab_type": "text"
      },
      "source": [
        "<a href=\"https://colab.research.google.com/github/evildead23151/Deep-Learning/blob/main/apple_stock_forecasting_using_STACKED_LSTM.ipynb\" target=\"_parent\"><img src=\"https://colab.research.google.com/assets/colab-badge.svg\" alt=\"Open In Colab\"/></a>"
      ]
    },
    {
      "cell_type": "markdown",
      "source": [
        "#📈 Stock Price Prediction using LSTM Neural Network\n",
        "In this project, we build a deep learning model using Long Short-Term Memory (LSTM) — a powerful variant of Recurrent Neural Networks (RNNs) — to predict future stock prices based on historical data.\n",
        "\n",
        "Stock prices are influenced by a variety of factors and tend to follow non-linear patterns over time. Traditional models often fail to capture the temporal dependencies effectively. LSTM networks, however, are designed to learn patterns in sequential data, making them a strong candidate for time series forecasting tasks such as stock price prediction.\n",
        "\n",
        "##🔍 What this project does:\n",
        "Fetches and prepares historical stock closing price data\n",
        "\n",
        "Scales and reshapes the data for LSTM input\n",
        "\n",
        "Trains a sequential LSTM model to learn trends in the data\n",
        "\n",
        "Predicts future stock prices (next 30 days) based on previous patterns\n",
        "\n",
        "Visualizes both the actual and predicted prices for easy comparison"
      ],
      "metadata": {
        "id": "Bq5KFwdHAjCr"
      }
    },
    {
      "cell_type": "markdown",
      "source": [
        "###✅ Why LSTM?\n",
        "LSTM networks are capable of learning long-term dependencies and avoid the vanishing gradient problem, which makes them ideal for tasks like financial forecasting where context from past data is crucial."
      ],
      "metadata": {
        "id": "32cQV5aOAqNU"
      }
    },
    {
      "cell_type": "code",
      "execution_count": 1,
      "metadata": {
        "id": "6sRdiUD71eE1"
      },
      "outputs": [],
      "source": [
        "import pandas as pd"
      ]
    },
    {
      "cell_type": "code",
      "source": [
        "df = pd.read_csv('AAPL.csv')"
      ],
      "metadata": {
        "id": "hQQZHYgK1wtO"
      },
      "execution_count": 2,
      "outputs": []
    },
    {
      "cell_type": "code",
      "source": [
        "df.set_index(\"Date\", inplace=True)\n"
      ],
      "metadata": {
        "id": "STiwhBof11fy"
      },
      "execution_count": 3,
      "outputs": []
    },
    {
      "cell_type": "code",
      "source": [
        "df.head()"
      ],
      "metadata": {
        "colab": {
          "base_uri": "https://localhost:8080/",
          "height": 238
        },
        "id": "eadNB7hT2g0a",
        "outputId": "7e944230-4fd4-444c-d3bc-8eef96e6ffc8"
      },
      "execution_count": 4,
      "outputs": [
        {
          "output_type": "execute_result",
          "data": {
            "text/plain": [
              "                 Open       High        Low      Close  Adj Close     Volume\n",
              "Date                                                                        \n",
              "2019-08-16  51.070000  51.790001  50.959999  51.625000  49.954624  110481600\n",
              "2019-08-19  52.654999  53.182499  52.507500  52.587502  50.885971   97654400\n",
              "2019-08-20  52.720001  53.337502  52.580002  52.590000  50.888390  107537200\n",
              "2019-08-21  53.247501  53.412498  52.900002  53.160000  51.439960   86141600\n",
              "2019-08-22  53.297501  53.610001  52.687500  53.115002  51.396420   89014800"
            ],
            "text/html": [
              "\n",
              "  <div id=\"df-9ef6cc0d-e548-44db-846e-6c449c941a70\" class=\"colab-df-container\">\n",
              "    <div>\n",
              "<style scoped>\n",
              "    .dataframe tbody tr th:only-of-type {\n",
              "        vertical-align: middle;\n",
              "    }\n",
              "\n",
              "    .dataframe tbody tr th {\n",
              "        vertical-align: top;\n",
              "    }\n",
              "\n",
              "    .dataframe thead th {\n",
              "        text-align: right;\n",
              "    }\n",
              "</style>\n",
              "<table border=\"1\" class=\"dataframe\">\n",
              "  <thead>\n",
              "    <tr style=\"text-align: right;\">\n",
              "      <th></th>\n",
              "      <th>Open</th>\n",
              "      <th>High</th>\n",
              "      <th>Low</th>\n",
              "      <th>Close</th>\n",
              "      <th>Adj Close</th>\n",
              "      <th>Volume</th>\n",
              "    </tr>\n",
              "    <tr>\n",
              "      <th>Date</th>\n",
              "      <th></th>\n",
              "      <th></th>\n",
              "      <th></th>\n",
              "      <th></th>\n",
              "      <th></th>\n",
              "      <th></th>\n",
              "    </tr>\n",
              "  </thead>\n",
              "  <tbody>\n",
              "    <tr>\n",
              "      <th>2019-08-16</th>\n",
              "      <td>51.070000</td>\n",
              "      <td>51.790001</td>\n",
              "      <td>50.959999</td>\n",
              "      <td>51.625000</td>\n",
              "      <td>49.954624</td>\n",
              "      <td>110481600</td>\n",
              "    </tr>\n",
              "    <tr>\n",
              "      <th>2019-08-19</th>\n",
              "      <td>52.654999</td>\n",
              "      <td>53.182499</td>\n",
              "      <td>52.507500</td>\n",
              "      <td>52.587502</td>\n",
              "      <td>50.885971</td>\n",
              "      <td>97654400</td>\n",
              "    </tr>\n",
              "    <tr>\n",
              "      <th>2019-08-20</th>\n",
              "      <td>52.720001</td>\n",
              "      <td>53.337502</td>\n",
              "      <td>52.580002</td>\n",
              "      <td>52.590000</td>\n",
              "      <td>50.888390</td>\n",
              "      <td>107537200</td>\n",
              "    </tr>\n",
              "    <tr>\n",
              "      <th>2019-08-21</th>\n",
              "      <td>53.247501</td>\n",
              "      <td>53.412498</td>\n",
              "      <td>52.900002</td>\n",
              "      <td>53.160000</td>\n",
              "      <td>51.439960</td>\n",
              "      <td>86141600</td>\n",
              "    </tr>\n",
              "    <tr>\n",
              "      <th>2019-08-22</th>\n",
              "      <td>53.297501</td>\n",
              "      <td>53.610001</td>\n",
              "      <td>52.687500</td>\n",
              "      <td>53.115002</td>\n",
              "      <td>51.396420</td>\n",
              "      <td>89014800</td>\n",
              "    </tr>\n",
              "  </tbody>\n",
              "</table>\n",
              "</div>\n",
              "    <div class=\"colab-df-buttons\">\n",
              "\n",
              "  <div class=\"colab-df-container\">\n",
              "    <button class=\"colab-df-convert\" onclick=\"convertToInteractive('df-9ef6cc0d-e548-44db-846e-6c449c941a70')\"\n",
              "            title=\"Convert this dataframe to an interactive table.\"\n",
              "            style=\"display:none;\">\n",
              "\n",
              "  <svg xmlns=\"http://www.w3.org/2000/svg\" height=\"24px\" viewBox=\"0 -960 960 960\">\n",
              "    <path d=\"M120-120v-720h720v720H120Zm60-500h600v-160H180v160Zm220 220h160v-160H400v160Zm0 220h160v-160H400v160ZM180-400h160v-160H180v160Zm440 0h160v-160H620v160ZM180-180h160v-160H180v160Zm440 0h160v-160H620v160Z\"/>\n",
              "  </svg>\n",
              "    </button>\n",
              "\n",
              "  <style>\n",
              "    .colab-df-container {\n",
              "      display:flex;\n",
              "      gap: 12px;\n",
              "    }\n",
              "\n",
              "    .colab-df-convert {\n",
              "      background-color: #E8F0FE;\n",
              "      border: none;\n",
              "      border-radius: 50%;\n",
              "      cursor: pointer;\n",
              "      display: none;\n",
              "      fill: #1967D2;\n",
              "      height: 32px;\n",
              "      padding: 0 0 0 0;\n",
              "      width: 32px;\n",
              "    }\n",
              "\n",
              "    .colab-df-convert:hover {\n",
              "      background-color: #E2EBFA;\n",
              "      box-shadow: 0px 1px 2px rgba(60, 64, 67, 0.3), 0px 1px 3px 1px rgba(60, 64, 67, 0.15);\n",
              "      fill: #174EA6;\n",
              "    }\n",
              "\n",
              "    .colab-df-buttons div {\n",
              "      margin-bottom: 4px;\n",
              "    }\n",
              "\n",
              "    [theme=dark] .colab-df-convert {\n",
              "      background-color: #3B4455;\n",
              "      fill: #D2E3FC;\n",
              "    }\n",
              "\n",
              "    [theme=dark] .colab-df-convert:hover {\n",
              "      background-color: #434B5C;\n",
              "      box-shadow: 0px 1px 3px 1px rgba(0, 0, 0, 0.15);\n",
              "      filter: drop-shadow(0px 1px 2px rgba(0, 0, 0, 0.3));\n",
              "      fill: #FFFFFF;\n",
              "    }\n",
              "  </style>\n",
              "\n",
              "    <script>\n",
              "      const buttonEl =\n",
              "        document.querySelector('#df-9ef6cc0d-e548-44db-846e-6c449c941a70 button.colab-df-convert');\n",
              "      buttonEl.style.display =\n",
              "        google.colab.kernel.accessAllowed ? 'block' : 'none';\n",
              "\n",
              "      async function convertToInteractive(key) {\n",
              "        const element = document.querySelector('#df-9ef6cc0d-e548-44db-846e-6c449c941a70');\n",
              "        const dataTable =\n",
              "          await google.colab.kernel.invokeFunction('convertToInteractive',\n",
              "                                                    [key], {});\n",
              "        if (!dataTable) return;\n",
              "\n",
              "        const docLinkHtml = 'Like what you see? Visit the ' +\n",
              "          '<a target=\"_blank\" href=https://colab.research.google.com/notebooks/data_table.ipynb>data table notebook</a>'\n",
              "          + ' to learn more about interactive tables.';\n",
              "        element.innerHTML = '';\n",
              "        dataTable['output_type'] = 'display_data';\n",
              "        await google.colab.output.renderOutput(dataTable, element);\n",
              "        const docLink = document.createElement('div');\n",
              "        docLink.innerHTML = docLinkHtml;\n",
              "        element.appendChild(docLink);\n",
              "      }\n",
              "    </script>\n",
              "  </div>\n",
              "\n",
              "\n",
              "    <div id=\"df-27fd1ef8-0f85-4780-9a7c-ec8b24648941\">\n",
              "      <button class=\"colab-df-quickchart\" onclick=\"quickchart('df-27fd1ef8-0f85-4780-9a7c-ec8b24648941')\"\n",
              "                title=\"Suggest charts\"\n",
              "                style=\"display:none;\">\n",
              "\n",
              "<svg xmlns=\"http://www.w3.org/2000/svg\" height=\"24px\"viewBox=\"0 0 24 24\"\n",
              "     width=\"24px\">\n",
              "    <g>\n",
              "        <path d=\"M19 3H5c-1.1 0-2 .9-2 2v14c0 1.1.9 2 2 2h14c1.1 0 2-.9 2-2V5c0-1.1-.9-2-2-2zM9 17H7v-7h2v7zm4 0h-2V7h2v10zm4 0h-2v-4h2v4z\"/>\n",
              "    </g>\n",
              "</svg>\n",
              "      </button>\n",
              "\n",
              "<style>\n",
              "  .colab-df-quickchart {\n",
              "      --bg-color: #E8F0FE;\n",
              "      --fill-color: #1967D2;\n",
              "      --hover-bg-color: #E2EBFA;\n",
              "      --hover-fill-color: #174EA6;\n",
              "      --disabled-fill-color: #AAA;\n",
              "      --disabled-bg-color: #DDD;\n",
              "  }\n",
              "\n",
              "  [theme=dark] .colab-df-quickchart {\n",
              "      --bg-color: #3B4455;\n",
              "      --fill-color: #D2E3FC;\n",
              "      --hover-bg-color: #434B5C;\n",
              "      --hover-fill-color: #FFFFFF;\n",
              "      --disabled-bg-color: #3B4455;\n",
              "      --disabled-fill-color: #666;\n",
              "  }\n",
              "\n",
              "  .colab-df-quickchart {\n",
              "    background-color: var(--bg-color);\n",
              "    border: none;\n",
              "    border-radius: 50%;\n",
              "    cursor: pointer;\n",
              "    display: none;\n",
              "    fill: var(--fill-color);\n",
              "    height: 32px;\n",
              "    padding: 0;\n",
              "    width: 32px;\n",
              "  }\n",
              "\n",
              "  .colab-df-quickchart:hover {\n",
              "    background-color: var(--hover-bg-color);\n",
              "    box-shadow: 0 1px 2px rgba(60, 64, 67, 0.3), 0 1px 3px 1px rgba(60, 64, 67, 0.15);\n",
              "    fill: var(--button-hover-fill-color);\n",
              "  }\n",
              "\n",
              "  .colab-df-quickchart-complete:disabled,\n",
              "  .colab-df-quickchart-complete:disabled:hover {\n",
              "    background-color: var(--disabled-bg-color);\n",
              "    fill: var(--disabled-fill-color);\n",
              "    box-shadow: none;\n",
              "  }\n",
              "\n",
              "  .colab-df-spinner {\n",
              "    border: 2px solid var(--fill-color);\n",
              "    border-color: transparent;\n",
              "    border-bottom-color: var(--fill-color);\n",
              "    animation:\n",
              "      spin 1s steps(1) infinite;\n",
              "  }\n",
              "\n",
              "  @keyframes spin {\n",
              "    0% {\n",
              "      border-color: transparent;\n",
              "      border-bottom-color: var(--fill-color);\n",
              "      border-left-color: var(--fill-color);\n",
              "    }\n",
              "    20% {\n",
              "      border-color: transparent;\n",
              "      border-left-color: var(--fill-color);\n",
              "      border-top-color: var(--fill-color);\n",
              "    }\n",
              "    30% {\n",
              "      border-color: transparent;\n",
              "      border-left-color: var(--fill-color);\n",
              "      border-top-color: var(--fill-color);\n",
              "      border-right-color: var(--fill-color);\n",
              "    }\n",
              "    40% {\n",
              "      border-color: transparent;\n",
              "      border-right-color: var(--fill-color);\n",
              "      border-top-color: var(--fill-color);\n",
              "    }\n",
              "    60% {\n",
              "      border-color: transparent;\n",
              "      border-right-color: var(--fill-color);\n",
              "    }\n",
              "    80% {\n",
              "      border-color: transparent;\n",
              "      border-right-color: var(--fill-color);\n",
              "      border-bottom-color: var(--fill-color);\n",
              "    }\n",
              "    90% {\n",
              "      border-color: transparent;\n",
              "      border-bottom-color: var(--fill-color);\n",
              "    }\n",
              "  }\n",
              "</style>\n",
              "\n",
              "      <script>\n",
              "        async function quickchart(key) {\n",
              "          const quickchartButtonEl =\n",
              "            document.querySelector('#' + key + ' button');\n",
              "          quickchartButtonEl.disabled = true;  // To prevent multiple clicks.\n",
              "          quickchartButtonEl.classList.add('colab-df-spinner');\n",
              "          try {\n",
              "            const charts = await google.colab.kernel.invokeFunction(\n",
              "                'suggestCharts', [key], {});\n",
              "          } catch (error) {\n",
              "            console.error('Error during call to suggestCharts:', error);\n",
              "          }\n",
              "          quickchartButtonEl.classList.remove('colab-df-spinner');\n",
              "          quickchartButtonEl.classList.add('colab-df-quickchart-complete');\n",
              "        }\n",
              "        (() => {\n",
              "          let quickchartButtonEl =\n",
              "            document.querySelector('#df-27fd1ef8-0f85-4780-9a7c-ec8b24648941 button');\n",
              "          quickchartButtonEl.style.display =\n",
              "            google.colab.kernel.accessAllowed ? 'block' : 'none';\n",
              "        })();\n",
              "      </script>\n",
              "    </div>\n",
              "\n",
              "    </div>\n",
              "  </div>\n"
            ],
            "application/vnd.google.colaboratory.intrinsic+json": {
              "type": "dataframe",
              "variable_name": "df",
              "summary": "{\n  \"name\": \"df\",\n  \"rows\": 1258,\n  \"fields\": [\n    {\n      \"column\": \"Date\",\n      \"properties\": {\n        \"dtype\": \"object\",\n        \"num_unique_values\": 1258,\n        \"samples\": [\n          \"2021-11-05\",\n          \"2020-01-10\",\n          \"2019-10-29\"\n        ],\n        \"semantic_type\": \"\",\n        \"description\": \"\"\n      }\n    },\n    {\n      \"column\": \"Open\",\n      \"properties\": {\n        \"dtype\": \"number\",\n        \"std\": 41.80668126900019,\n        \"min\": 51.025002,\n        \"max\": 236.479996,\n        \"num_unique_values\": 1192,\n        \"samples\": [\n          186.729996,\n          114.43,\n          132.759995\n        ],\n        \"semantic_type\": \"\",\n        \"description\": \"\"\n      }\n    },\n    {\n      \"column\": \"High\",\n      \"properties\": {\n        \"dtype\": \"number\",\n        \"std\": 42.122370612606325,\n        \"min\": 51.43,\n        \"max\": 237.229996,\n        \"num_unique_values\": 1197,\n        \"samples\": [\n          187.559998,\n          123.779999,\n          79.392502\n        ],\n        \"semantic_type\": \"\",\n        \"description\": \"\"\n      }\n    },\n    {\n      \"column\": \"Low\",\n      \"properties\": {\n        \"dtype\": \"number\",\n        \"std\": 41.508559317654324,\n        \"min\": 50.25,\n        \"max\": 233.089996,\n        \"num_unique_values\": 1210,\n        \"samples\": [\n          77.0625,\n          125.169998,\n          116.050003\n        ],\n        \"semantic_type\": \"\",\n        \"description\": \"\"\n      }\n    },\n    {\n      \"column\": \"Close\",\n      \"properties\": {\n        \"dtype\": \"number\",\n        \"std\": 41.817773958100624,\n        \"min\": 50.66,\n        \"max\": 234.820007,\n        \"num_unique_values\": 1197,\n        \"samples\": [\n          186.009995,\n          116.589996,\n          77.582497\n        ],\n        \"semantic_type\": \"\",\n        \"description\": \"\"\n      }\n    },\n    {\n      \"column\": \"Adj Close\",\n      \"properties\": {\n        \"dtype\": \"number\",\n        \"std\": 42.21906308375271,\n        \"min\": 49.020844,\n        \"max\": 234.548523,\n        \"num_unique_values\": 1245,\n        \"samples\": [\n          159.518555,\n          123.179642,\n          186.68042\n        ],\n        \"semantic_type\": \"\",\n        \"description\": \"\"\n      }\n    },\n    {\n      \"column\": \"Volume\",\n      \"properties\": {\n        \"dtype\": \"number\",\n        \"std\": 51992239,\n        \"min\": 24048300,\n        \"max\": 426510000,\n        \"num_unique_values\": 1256,\n        \"samples\": [\n          88071200,\n          140644800,\n          142839600\n        ],\n        \"semantic_type\": \"\",\n        \"description\": \"\"\n      }\n    }\n  ]\n}"
            }
          },
          "metadata": {},
          "execution_count": 4
        }
      ]
    },
    {
      "cell_type": "code",
      "source": [
        "import matplotlib.pyplot as plt\n",
        "\n",
        "plt.figure(figsize=(12, 6))\n",
        "df[\"Close\"].plot(title=\"AAPL Closing Price\", xlabel=\"Date\", ylabel=\"Price ($)\")\n",
        "plt.grid()\n",
        "plt.show()\n"
      ],
      "metadata": {
        "colab": {
          "base_uri": "https://localhost:8080/",
          "height": 507
        },
        "id": "BiQG3Xwg2wzP",
        "outputId": "23fe8782-dce4-436a-a078-773d04b04d16"
      },
      "execution_count": 5,
      "outputs": [
        {
          "output_type": "display_data",
          "data": {
            "text/plain": [
              "<Figure size 1200x600 with 1 Axes>"
            ],
            "image/png": "[encoded data removed]"
          },
          "metadata": {}
        }
      ]
    },
    {
      "cell_type": "code",
      "source": [
        "df[\"MA20\"] = df[\"Close\"].rolling(window=20).mean()\n",
        "\n",
        "df[[\"Close\", \"MA20\"]].plot(figsize=(12, 6), title=\"AAPL Close & 20-Day Moving Average\")\n",
        "plt.grid()\n",
        "plt.show()\n"
      ],
      "metadata": {
        "colab": {
          "base_uri": "https://localhost:8080/",
          "height": 517
        },
        "id": "NzhsHMMH3J7p",
        "outputId": "7ee433bf-de39-48e4-d598-45e5a654f2a0"
      },
      "execution_count": 6,
      "outputs": [
        {
          "output_type": "display_data",
          "data": {
            "text/plain": [
              "<Figure size 1200x600 with 1 Axes>"
            ],
            "image/png": "[encoded data removed]"
          },
          "metadata": {}
        }
      ]
    },
    {
      "cell_type": "code",
      "source": [
        "df2 = df.reset_index()\n"
      ],
      "metadata": {
        "id": "9uvJl3US3RDh"
      },
      "execution_count": 7,
      "outputs": []
    },
    {
      "cell_type": "code",
      "source": [
        "df2[1228:]"
      ],
      "metadata": {
        "colab": {
          "base_uri": "https://localhost:8080/",
          "height": 990
        },
        "id": "AE8o6aqP3Rre",
        "outputId": "132abe8b-e174-43a9-cfe8-654adb412bcd"
      },
      "execution_count": 8,
      "outputs": [
        {
          "output_type": "execute_result",
          "data": {
            "text/plain": [
              "            Date        Open        High         Low       Close   Adj Close  \\\n",
              "1228  2024-07-05  221.649994  226.449997  221.649994  226.339996  226.078308   \n",
              "1229  2024-07-08  227.089996  227.850006  223.250000  227.820007  227.556610   \n",
              "1230  2024-07-09  227.929993  229.399994  226.369995  228.679993  228.415604   \n",
              "1231  2024-07-10  229.300003  233.080002  229.250000  232.979996  232.710632   \n",
              "1232  2024-07-11  231.389999  232.389999  225.770004  227.570007  227.306900   \n",
              "1233  2024-07-12  228.919998  232.639999  228.679993  230.539993  230.273453   \n",
              "1234  2024-07-15  236.479996  237.229996  233.089996  234.399994  234.128998   \n",
              "1235  2024-07-16  235.000000  236.270004  232.330002  234.820007  234.548523   \n",
              "1236  2024-07-17  229.449997  231.460007  226.639999  228.880005  228.615387   \n",
              "1237  2024-07-18  230.279999  230.440002  222.270004  224.179993  223.920807   \n",
              "1238  2024-07-19  224.820007  226.800003  223.279999  224.309998  224.050659   \n",
              "1239  2024-07-22  227.009995  227.779999  223.089996  223.960007  223.701080   \n",
              "1240  2024-07-23  224.369995  226.940002  222.679993  225.009995  224.749847   \n",
              "1241  2024-07-24  224.000000  224.800003  217.130005  218.539993  218.287323   \n",
              "1242  2024-07-25  218.929993  220.850006  214.619995  217.490005  217.238556   \n",
              "1243  2024-07-26  218.699997  219.490005  216.009995  217.960007  217.708008   \n",
              "1244  2024-07-29  216.960007  219.300003  215.750000  218.240005  217.987686   \n",
              "1245  2024-07-30  219.190002  220.330002  216.119995  218.800003  218.547043   \n",
              "1246  2024-07-31  221.440002  223.820007  220.630005  222.080002  221.823242   \n",
              "1247  2024-08-01  224.369995  224.479996  217.020004  218.360001  218.107544   \n",
              "1248  2024-08-02  219.149994  225.600006  217.710007  219.860001  219.605804   \n",
              "1249  2024-08-05  199.089996  213.500000  196.000000  209.270004  209.028061   \n",
              "1250  2024-08-06  205.300003  209.990005  201.070007  207.229996  206.990402   \n",
              "1251  2024-08-07  206.899994  213.639999  206.389999  209.820007  209.577423   \n",
              "1252  2024-08-08  213.110001  214.199997  208.830002  213.309998  213.063385   \n",
              "1253  2024-08-09  212.100006  216.779999  211.970001  216.240005  215.990005   \n",
              "1254  2024-08-12  216.070007  219.509995  215.600006  217.529999  217.529999   \n",
              "1255  2024-08-13  219.009995  221.889999  219.009995  221.270004  221.270004   \n",
              "1256  2024-08-14  220.570007  223.029999  219.699997  221.720001  221.720001   \n",
              "1257  2024-08-15  224.600006  225.350006  222.759995  224.720001  224.720001   \n",
              "\n",
              "         Volume        MA20  \n",
              "1228   60412400  210.983000  \n",
              "1229   59085900  212.650001  \n",
              "1230   48076100  214.239500  \n",
              "1231   62627700  216.232500  \n",
              "1232   64710600  217.253501  \n",
              "1233   53046500  218.127000  \n",
              "1234   62631300  219.135000  \n",
              "1235   43234300  220.251500  \n",
              "1236   57345900  220.862000  \n",
              "1237   66034600  221.356500  \n",
              "1238   49151500  222.088000  \n",
              "1239   48201800  222.911501  \n",
              "1240   39960300  223.755000  \n",
              "1241   61777600  224.228500  \n",
              "1242   51391200  224.440500  \n",
              "1243   41601300  224.633500  \n",
              "1244   36311800  225.014500  \n",
              "1245   41643800  225.117001  \n",
              "1246   50036300  225.207500  \n",
              "1247   62501000  225.048000  \n",
              "1248  105568600  224.724001  \n",
              "1249  119548600  223.796500  \n",
              "1250   69660500  222.724001  \n",
              "1251   63516400  221.566001  \n",
              "1252   47161100  220.853001  \n",
              "1253   42201600  220.138001  \n",
              "1254   38028100  219.294502  \n",
              "1255   44155300  218.617001  \n",
              "1256   41960600  218.259001  \n",
              "1257   46335300  218.286002  "
            ],
            "text/html": [
              "\n",
              "  <div id=\"df-ef4506b6-5bf0-48da-9739-5728758ab2df\" class=\"colab-df-container\">\n",
              "    <div>\n",
              "<style scoped>\n",
              "    .dataframe tbody tr th:only-of-type {\n",
              "        vertical-align: middle;\n",
              "    }\n",
              "\n",
              "    .dataframe tbody tr th {\n",
              "        vertical-align: top;\n",
              "    }\n",
              "\n",
              "    .dataframe thead th {\n",
              "        text-align: right;\n",
              "    }\n",
              "</style>\n",
              "<table border=\"1\" class=\"dataframe\">\n",
              "  <thead>\n",
              "    <tr style=\"text-align: right;\">\n",
              "      <th></th>\n",
              "      <th>Date</th>\n",
              "      <th>Open</th>\n",
              "      <th>High</th>\n",
              "      <th>Low</th>\n",
              "      <th>Close</th>\n",
              "      <th>Adj Close</th>\n",
              "      <th>Volume</th>\n",
              "      <th>MA20</th>\n",
              "    </tr>\n",
              "  </thead>\n",
              "  <tbody>\n",
              "    <tr>\n",
              "      <th>1228</th>\n",
              "      <td>2024-07-05</td>\n",
              "      <td>221.649994</td>\n",
              "      <td>226.449997</td>\n",
              "      <td>221.649994</td>\n",
              "      <td>226.339996</td>\n",
              "      <td>226.078308</td>\n",
              "      <td>60412400</td>\n",
              "      <td>210.983000</td>\n",
              "    </tr>\n",
              "    <tr>\n",
              "      <th>1229</th>\n",
              "      <td>2024-07-08</td>\n",
              "      <td>227.089996</td>\n",
              "      <td>227.850006</td>\n",
              "      <td>223.250000</td>\n",
              "      <td>227.820007</td>\n",
              "      <td>227.556610</td>\n",
              "      <td>59085900</td>\n",
              "      <td>212.650001</td>\n",
              "    </tr>\n",
              "    <tr>\n",
              "      <th>1230</th>\n",
              "      <td>2024-07-09</td>\n",
              "      <td>227.929993</td>\n",
              "      <td>229.399994</td>\n",
              "      <td>226.369995</td>\n",
              "      <td>228.679993</td>\n",
              "      <td>228.415604</td>\n",
              "      <td>48076100</td>\n",
              "      <td>214.239500</td>\n",
              "    </tr>\n",
              "    <tr>\n",
              "      <th>1231</th>\n",
              "      <td>2024-07-10</td>\n",
              "      <td>229.300003</td>\n",
              "      <td>233.080002</td>\n",
              "      <td>229.250000</td>\n",
              "      <td>232.979996</td>\n",
              "      <td>232.710632</td>\n",
              "      <td>62627700</td>\n",
              "      <td>216.232500</td>\n",
              "    </tr>\n",
              "    <tr>\n",
              "      <th>1232</th>\n",
              "      <td>2024-07-11</td>\n",
              "      <td>231.389999</td>\n",
              "      <td>232.389999</td>\n",
              "      <td>225.770004</td>\n",
              "      <td>227.570007</td>\n",
              "      <td>227.306900</td>\n",
              "      <td>64710600</td>\n",
              "      <td>217.253501</td>\n",
              "    </tr>\n",
              "    <tr>\n",
              "      <th>1233</th>\n",
              "      <td>2024-07-12</td>\n",
              "      <td>228.919998</td>\n",
              "      <td>232.639999</td>\n",
              "      <td>228.679993</td>\n",
              "      <td>230.539993</td>\n",
              "      <td>230.273453</td>\n",
              "      <td>53046500</td>\n",
              "      <td>218.127000</td>\n",
              "    </tr>\n",
              "    <tr>\n",
              "      <th>1234</th>\n",
              "      <td>2024-07-15</td>\n",
              "      <td>236.479996</td>\n",
              "      <td>237.229996</td>\n",
              "      <td>233.089996</td>\n",
              "      <td>234.399994</td>\n",
              "      <td>234.128998</td>\n",
              "      <td>62631300</td>\n",
              "      <td>219.135000</td>\n",
              "    </tr>\n",
              "    <tr>\n",
              "      <th>1235</th>\n",
              "      <td>2024-07-16</td>\n",
              "      <td>235.000000</td>\n",
              "      <td>236.270004</td>\n",
              "      <td>232.330002</td>\n",
              "      <td>234.820007</td>\n",
              "      <td>234.548523</td>\n",
              "      <td>43234300</td>\n",
              "      <td>220.251500</td>\n",
              "    </tr>\n",
              "    <tr>\n",
              "      <th>1236</th>\n",
              "      <td>2024-07-17</td>\n",
              "      <td>229.449997</td>\n",
              "      <td>231.460007</td>\n",
              "      <td>226.639999</td>\n",
              "      <td>228.880005</td>\n",
              "      <td>228.615387</td>\n",
              "      <td>57345900</td>\n",
              "      <td>220.862000</td>\n",
              "    </tr>\n",
              "    <tr>\n",
              "      <th>1237</th>\n",
              "      <td>2024-07-18</td>\n",
              "      <td>230.279999</td>\n",
              "      <td>230.440002</td>\n",
              "      <td>222.270004</td>\n",
              "      <td>224.179993</td>\n",
              "      <td>223.920807</td>\n",
              "      <td>66034600</td>\n",
              "      <td>221.356500</td>\n",
              "    </tr>\n",
              "    <tr>\n",
              "      <th>1238</th>\n",
              "      <td>2024-07-19</td>\n",
              "      <td>224.820007</td>\n",
              "      <td>226.800003</td>\n",
              "      <td>223.279999</td>\n",
              "      <td>224.309998</td>\n",
              "      <td>224.050659</td>\n",
              "      <td>49151500</td>\n",
              "      <td>222.088000</td>\n",
              "    </tr>\n",
              "    <tr>\n",
              "      <th>1239</th>\n",
              "      <td>2024-07-22</td>\n",
              "      <td>227.009995</td>\n",
              "      <td>227.779999</td>\n",
              "      <td>223.089996</td>\n",
              "      <td>223.960007</td>\n",
              "      <td>223.701080</td>\n",
              "      <td>48201800</td>\n",
              "      <td>222.911501</td>\n",
              "    </tr>\n",
              "    <tr>\n",
              "      <th>1240</th>\n",
              "      <td>2024-07-23</td>\n",
              "      <td>224.369995</td>\n",
              "      <td>226.940002</td>\n",
              "      <td>222.679993</td>\n",
              "      <td>225.009995</td>\n",
              "      <td>224.749847</td>\n",
              "      <td>39960300</td>\n",
              "      <td>223.755000</td>\n",
              "    </tr>\n",
              "    <tr>\n",
              "      <th>1241</th>\n",
              "      <td>2024-07-24</td>\n",
              "      <td>224.000000</td>\n",
              "      <td>224.800003</td>\n",
              "      <td>217.130005</td>\n",
              "      <td>218.539993</td>\n",
              "      <td>218.287323</td>\n",
              "      <td>61777600</td>\n",
              "      <td>224.228500</td>\n",
              "    </tr>\n",
              "    <tr>\n",
              "      <th>1242</th>\n",
              "      <td>2024-07-25</td>\n",
              "      <td>218.929993</td>\n",
              "      <td>220.850006</td>\n",
              "      <td>214.619995</td>\n",
              "      <td>217.490005</td>\n",
              "      <td>217.238556</td>\n",
              "      <td>51391200</td>\n",
              "      <td>224.440500</td>\n",
              "    </tr>\n",
              "    <tr>\n",
              "      <th>1243</th>\n",
              "      <td>2024-07-26</td>\n",
              "      <td>218.699997</td>\n",
              "      <td>219.490005</td>\n",
              "      <td>216.009995</td>\n",
              "      <td>217.960007</td>\n",
              "      <td>217.708008</td>\n",
              "      <td>41601300</td>\n",
              "      <td>224.633500</td>\n",
              "    </tr>\n",
              "    <tr>\n",
              "      <th>1244</th>\n",
              "      <td>2024-07-29</td>\n",
              "      <td>216.960007</td>\n",
              "      <td>219.300003</td>\n",
              "      <td>215.750000</td>\n",
              "      <td>218.240005</td>\n",
              "      <td>217.987686</td>\n",
              "      <td>36311800</td>\n",
              "      <td>225.014500</td>\n",
              "    </tr>\n",
              "    <tr>\n",
              "      <th>1245</th>\n",
              "      <td>2024-07-30</td>\n",
              "      <td>219.190002</td>\n",
              "      <td>220.330002</td>\n",
              "      <td>216.119995</td>\n",
              "      <td>218.800003</td>\n",
              "      <td>218.547043</td>\n",
              "      <td>41643800</td>\n",
              "      <td>225.117001</td>\n",
              "    </tr>\n",
              "    <tr>\n",
              "      <th>1246</th>\n",
              "      <td>2024-07-31</td>\n",
              "      <td>221.440002</td>\n",
              "      <td>223.820007</td>\n",
              "      <td>220.630005</td>\n",
              "      <td>222.080002</td>\n",
              "      <td>221.823242</td>\n",
              "      <td>50036300</td>\n",
              "      <td>225.207500</td>\n",
              "    </tr>\n",
              "    <tr>\n",
              "      <th>1247</th>\n",
              "      <td>2024-08-01</td>\n",
              "      <td>224.369995</td>\n",
              "      <td>224.479996</td>\n",
              "      <td>217.020004</td>\n",
              "      <td>218.360001</td>\n",
              "      <td>218.107544</td>\n",
              "      <td>62501000</td>\n",
              "      <td>225.048000</td>\n",
              "    </tr>\n",
              "    <tr>\n",
              "      <th>1248</th>\n",
              "      <td>2024-08-02</td>\n",
              "      <td>219.149994</td>\n",
              "      <td>225.600006</td>\n",
              "      <td>217.710007</td>\n",
              "      <td>219.860001</td>\n",
              "      <td>219.605804</td>\n",
              "      <td>105568600</td>\n",
              "      <td>224.724001</td>\n",
              "    </tr>\n",
              "    <tr>\n",
              "      <th>1249</th>\n",
              "      <td>2024-08-05</td>\n",
              "      <td>199.089996</td>\n",
              "      <td>213.500000</td>\n",
              "      <td>196.000000</td>\n",
              "      <td>209.270004</td>\n",
              "      <td>209.028061</td>\n",
              "      <td>119548600</td>\n",
              "      <td>223.796500</td>\n",
              "    </tr>\n",
              "    <tr>\n",
              "      <th>1250</th>\n",
              "      <td>2024-08-06</td>\n",
              "      <td>205.300003</td>\n",
              "      <td>209.990005</td>\n",
              "      <td>201.070007</td>\n",
              "      <td>207.229996</td>\n",
              "      <td>206.990402</td>\n",
              "      <td>69660500</td>\n",
              "      <td>222.724001</td>\n",
              "    </tr>\n",
              "    <tr>\n",
              "      <th>1251</th>\n",
              "      <td>2024-08-07</td>\n",
              "      <td>206.899994</td>\n",
              "      <td>213.639999</td>\n",
              "      <td>206.389999</td>\n",
              "      <td>209.820007</td>\n",
              "      <td>209.577423</td>\n",
              "      <td>63516400</td>\n",
              "      <td>221.566001</td>\n",
              "    </tr>\n",
              "    <tr>\n",
              "      <th>1252</th>\n",
              "      <td>2024-08-08</td>\n",
              "      <td>213.110001</td>\n",
              "      <td>214.199997</td>\n",
              "      <td>208.830002</td>\n",
              "      <td>213.309998</td>\n",
              "      <td>213.063385</td>\n",
              "      <td>47161100</td>\n",
              "      <td>220.853001</td>\n",
              "    </tr>\n",
              "    <tr>\n",
              "      <th>1253</th>\n",
              "      <td>2024-08-09</td>\n",
              "      <td>212.100006</td>\n",
              "      <td>216.779999</td>\n",
              "      <td>211.970001</td>\n",
              "      <td>216.240005</td>\n",
              "      <td>215.990005</td>\n",
              "      <td>42201600</td>\n",
              "      <td>220.138001</td>\n",
              "    </tr>\n",
              "    <tr>\n",
              "      <th>1254</th>\n",
              "      <td>2024-08-12</td>\n",
              "      <td>216.070007</td>\n",
              "      <td>219.509995</td>\n",
              "      <td>215.600006</td>\n",
              "      <td>217.529999</td>\n",
              "      <td>217.529999</td>\n",
              "      <td>38028100</td>\n",
              "      <td>219.294502</td>\n",
              "    </tr>\n",
              "    <tr>\n",
              "      <th>1255</th>\n",
              "      <td>2024-08-13</td>\n",
              "      <td>219.009995</td>\n",
              "      <td>221.889999</td>\n",
              "      <td>219.009995</td>\n",
              "      <td>221.270004</td>\n",
              "      <td>221.270004</td>\n",
              "      <td>44155300</td>\n",
              "      <td>218.617001</td>\n",
              "    </tr>\n",
              "    <tr>\n",
              "      <th>1256</th>\n",
              "      <td>2024-08-14</td>\n",
              "      <td>220.570007</td>\n",
              "      <td>223.029999</td>\n",
              "      <td>219.699997</td>\n",
              "      <td>221.720001</td>\n",
              "      <td>221.720001</td>\n",
              "      <td>41960600</td>\n",
              "      <td>218.259001</td>\n",
              "    </tr>\n",
              "    <tr>\n",
              "      <th>1257</th>\n",
              "      <td>2024-08-15</td>\n",
              "      <td>224.600006</td>\n",
              "      <td>225.350006</td>\n",
              "      <td>222.759995</td>\n",
              "      <td>224.720001</td>\n",
              "      <td>224.720001</td>\n",
              "      <td>46335300</td>\n",
              "      <td>218.286002</td>\n",
              "    </tr>\n",
              "  </tbody>\n",
              "</table>\n",
              "</div>\n",
              "    <div class=\"colab-df-buttons\">\n",
              "\n",
              "  <div class=\"colab-df-container\">\n",
              "    <button class=\"colab-df-convert\" onclick=\"convertToInteractive('df-ef4506b6-5bf0-48da-9739-5728758ab2df')\"\n",
              "            title=\"Convert this dataframe to an interactive table.\"\n",
              "            style=\"display:none;\">\n",
              "\n",
              "  <svg xmlns=\"http://www.w3.org/2000/svg\" height=\"24px\" viewBox=\"0 -960 960 960\">\n",
              "    <path d=\"M120-120v-720h720v720H120Zm60-500h600v-160H180v160Zm220 220h160v-160H400v160Zm0 220h160v-160H400v160ZM180-400h160v-160H180v160Zm440 0h160v-160H620v160ZM180-180h160v-160H180v160Zm440 0h160v-160H620v160Z\"/>\n",
              "  </svg>\n",
              "    </button>\n",
              "\n",
              "  <style>\n",
              "    .colab-df-container {\n",
              "      display:flex;\n",
              "      gap: 12px;\n",
              "    }\n",
              "\n",
              "    .colab-df-convert {\n",
              "      background-color: #E8F0FE;\n",
              "      border: none;\n",
              "      border-radius: 50%;\n",
              "      cursor: pointer;\n",
              "      display: none;\n",
              "      fill: #1967D2;\n",
              "      height: 32px;\n",
              "      padding: 0 0 0 0;\n",
              "      width: 32px;\n",
              "    }\n",
              "\n",
              "    .colab-df-convert:hover {\n",
              "      background-color: #E2EBFA;\n",
              "      box-shadow: 0px 1px 2px rgba(60, 64, 67, 0.3), 0px 1px 3px 1px rgba(60, 64, 67, 0.15);\n",
              "      fill: #174EA6;\n",
              "    }\n",
              "\n",
              "    .colab-df-buttons div {\n",
              "      margin-bottom: 4px;\n",
              "    }\n",
              "\n",
              "    [theme=dark] .colab-df-convert {\n",
              "      background-color: #3B4455;\n",
              "      fill: #D2E3FC;\n",
              "    }\n",
              "\n",
              "    [theme=dark] .colab-df-convert:hover {\n",
              "      background-color: #434B5C;\n",
              "      box-shadow: 0px 1px 3px 1px rgba(0, 0, 0, 0.15);\n",
              "      filter: drop-shadow(0px 1px 2px rgba(0, 0, 0, 0.3));\n",
              "      fill: #FFFFFF;\n",
              "    }\n",
              "  </style>\n",
              "\n",
              "    <script>\n",
              "      const buttonEl =\n",
              "        document.querySelector('#df-ef4506b6-5bf0-48da-9739-5728758ab2df button.colab-df-convert');\n",
              "      buttonEl.style.display =\n",
              "        google.colab.kernel.accessAllowed ? 'block' : 'none';\n",
              "\n",
              "      async function convertToInteractive(key) {\n",
              "        const element = document.querySelector('#df-ef4506b6-5bf0-48da-9739-5728758ab2df');\n",
              "        const dataTable =\n",
              "          await google.colab.kernel.invokeFunction('convertToInteractive',\n",
              "                                                    [key], {});\n",
              "        if (!dataTable) return;\n",
              "\n",
              "        const docLinkHtml = 'Like what you see? Visit the ' +\n",
              "          '<a target=\"_blank\" href=https://colab.research.google.com/notebooks/data_table.ipynb>data table notebook</a>'\n",
              "          + ' to learn more about interactive tables.';\n",
              "        element.innerHTML = '';\n",
              "        dataTable['output_type'] = 'display_data';\n",
              "        await google.colab.output.renderOutput(dataTable, element);\n",
              "        const docLink = document.createElement('div');\n",
              "        docLink.innerHTML = docLinkHtml;\n",
              "        element.appendChild(docLink);\n",
              "      }\n",
              "    </script>\n",
              "  </div>\n",
              "\n",
              "\n",
              "    <div id=\"df-d480307f-c33b-4b4c-a56a-d69a1757c215\">\n",
              "      <button class=\"colab-df-quickchart\" onclick=\"quickchart('df-d480307f-c33b-4b4c-a56a-d69a1757c215')\"\n",
              "                title=\"Suggest charts\"\n",
              "                style=\"display:none;\">\n",
              "\n",
              "<svg xmlns=\"http://www.w3.org/2000/svg\" height=\"24px\"viewBox=\"0 0 24 24\"\n",
              "     width=\"24px\">\n",
              "    <g>\n",
              "        <path d=\"M19 3H5c-1.1 0-2 .9-2 2v14c0 1.1.9 2 2 2h14c1.1 0 2-.9 2-2V5c0-1.1-.9-2-2-2zM9 17H7v-7h2v7zm4 0h-2V7h2v10zm4 0h-2v-4h2v4z\"/>\n",
              "    </g>\n",
              "</svg>\n",
              "      </button>\n",
              "\n",
              "<style>\n",
              "  .colab-df-quickchart {\n",
              "      --bg-color: #E8F0FE;\n",
              "      --fill-color: #1967D2;\n",
              "      --hover-bg-color: #E2EBFA;\n",
              "      --hover-fill-color: #174EA6;\n",
              "      --disabled-fill-color: #AAA;\n",
              "      --disabled-bg-color: #DDD;\n",
              "  }\n",
              "\n",
              "  [theme=dark] .colab-df-quickchart {\n",
              "      --bg-color: #3B4455;\n",
              "      --fill-color: #D2E3FC;\n",
              "      --hover-bg-color: #434B5C;\n",
              "      --hover-fill-color: #FFFFFF;\n",
              "      --disabled-bg-color: #3B4455;\n",
              "      --disabled-fill-color: #666;\n",
              "  }\n",
              "\n",
              "  .colab-df-quickchart {\n",
              "    background-color: var(--bg-color);\n",
              "    border: none;\n",
              "    border-radius: 50%;\n",
              "    cursor: pointer;\n",
              "    display: none;\n",
              "    fill: var(--fill-color);\n",
              "    height: 32px;\n",
              "    padding: 0;\n",
              "    width: 32px;\n",
              "  }\n",
              "\n",
              "  .colab-df-quickchart:hover {\n",
              "    background-color: var(--hover-bg-color);\n",
              "    box-shadow: 0 1px 2px rgba(60, 64, 67, 0.3), 0 1px 3px 1px rgba(60, 64, 67, 0.15);\n",
              "    fill: var(--button-hover-fill-color);\n",
              "  }\n",
              "\n",
              "  .colab-df-quickchart-complete:disabled,\n",
              "  .colab-df-quickchart-complete:disabled:hover {\n",
              "    background-color: var(--disabled-bg-color);\n",
              "    fill: var(--disabled-fill-color);\n",
              "    box-shadow: none;\n",
              "  }\n",
              "\n",
              "  .colab-df-spinner {\n",
              "    border: 2px solid var(--fill-color);\n",
              "    border-color: transparent;\n",
              "    border-bottom-color: var(--fill-color);\n",
              "    animation:\n",
              "      spin 1s steps(1) infinite;\n",
              "  }\n",
              "\n",
              "  @keyframes spin {\n",
              "    0% {\n",
              "      border-color: transparent;\n",
              "      border-bottom-color: var(--fill-color);\n",
              "      border-left-color: var(--fill-color);\n",
              "    }\n",
              "    20% {\n",
              "      border-color: transparent;\n",
              "      border-left-color: var(--fill-color);\n",
              "      border-top-color: var(--fill-color);\n",
              "    }\n",
              "    30% {\n",
              "      border-color: transparent;\n",
              "      border-left-color: var(--fill-color);\n",
              "      border-top-color: var(--fill-color);\n",
              "      border-right-color: var(--fill-color);\n",
              "    }\n",
              "    40% {\n",
              "      border-color: transparent;\n",
              "      border-right-color: var(--fill-color);\n",
              "      border-top-color: var(--fill-color);\n",
              "    }\n",
              "    60% {\n",
              "      border-color: transparent;\n",
              "      border-right-color: var(--fill-color);\n",
              "    }\n",
              "    80% {\n",
              "      border-color: transparent;\n",
              "      border-right-color: var(--fill-color);\n",
              "      border-bottom-color: var(--fill-color);\n",
              "    }\n",
              "    90% {\n",
              "      border-color: transparent;\n",
              "      border-bottom-color: var(--fill-color);\n",
              "    }\n",
              "  }\n",
              "</style>\n",
              "\n",
              "      <script>\n",
              "        async function quickchart(key) {\n",
              "          const quickchartButtonEl =\n",
              "            document.querySelector('#' + key + ' button');\n",
              "          quickchartButtonEl.disabled = true;  // To prevent multiple clicks.\n",
              "          quickchartButtonEl.classList.add('colab-df-spinner');\n",
              "          try {\n",
              "            const charts = await google.colab.kernel.invokeFunction(\n",
              "                'suggestCharts', [key], {});\n",
              "          } catch (error) {\n",
              "            console.error('Error during call to suggestCharts:', error);\n",
              "          }\n",
              "          quickchartButtonEl.classList.remove('colab-df-spinner');\n",
              "          quickchartButtonEl.classList.add('colab-df-quickchart-complete');\n",
              "        }\n",
              "        (() => {\n",
              "          let quickchartButtonEl =\n",
              "            document.querySelector('#df-d480307f-c33b-4b4c-a56a-d69a1757c215 button');\n",
              "          quickchartButtonEl.style.display =\n",
              "            google.colab.kernel.accessAllowed ? 'block' : 'none';\n",
              "        })();\n",
              "      </script>\n",
              "    </div>\n",
              "\n",
              "    </div>\n",
              "  </div>\n"
            ],
            "application/vnd.google.colaboratory.intrinsic+json": {
              "type": "dataframe",
              "repr_error": "0"
            }
          },
          "metadata": {},
          "execution_count": 8
        }
      ]
    },
    {
      "cell_type": "code",
      "source": [
        "df1 = df.reset_index()['Close']"
      ],
      "metadata": {
        "id": "T_bx16zt3WYz"
      },
      "execution_count": 9,
      "outputs": []
    },
    {
      "cell_type": "code",
      "source": [
        "plt.plot(df1)"
      ],
      "metadata": {
        "colab": {
          "base_uri": "https://localhost:8080/",
          "height": 447
        },
        "id": "_KOHkVIY3i8c",
        "outputId": "5f8deca7-0371-48ab-b0c9-1549fe14e96d"
      },
      "execution_count": 10,
      "outputs": [
        {
          "output_type": "execute_result",
          "data": {
            "text/plain": [
              "[<matplotlib.lines.Line2D at 0x799c504a4e50>]"
            ]
          },
          "metadata": {},
          "execution_count": 10
        },
        {
          "output_type": "display_data",
          "data": {
            "text/plain": [
              "<Figure size 640x480 with 1 Axes>"
            ],
            "image/png": "[encoded data removed]"
          },
          "metadata": {}
        }
      ]
    },
    {
      "cell_type": "code",
      "source": [
        "### LSTM are senstitive to scale of data, so we use MinMax scaler."
      ],
      "metadata": {
        "id": "mTsBQvMi3kGU"
      },
      "execution_count": 11,
      "outputs": []
    },
    {
      "cell_type": "code",
      "source": [
        "import numpy as np"
      ],
      "metadata": {
        "id": "HJ2HLnkJ347J"
      },
      "execution_count": 12,
      "outputs": []
    },
    {
      "cell_type": "code",
      "source": [
        "from sklearn.preprocessing import MinMaxScaler\n",
        "scaler = MinMaxScaler(feature_range=(0,1))\n",
        "df1=scaler.fit_transform(np.array(df1).reshape(-1,1))"
      ],
      "metadata": {
        "id": "868bfSBx37g3"
      },
      "execution_count": 13,
      "outputs": []
    },
    {
      "cell_type": "code",
      "source": [
        "training_size=int(len(df1)*0.65)\n",
        "test_size=len(df1)-training_size\n",
        "train_data,test_data=df1[0:training_size,:],df1[training_size:len(df1),:1]"
      ],
      "metadata": {
        "id": "XxV8dgdP4LZd"
      },
      "execution_count": 14,
      "outputs": []
    },
    {
      "cell_type": "code",
      "source": [
        "training_size, test_size"
      ],
      "metadata": {
        "colab": {
          "base_uri": "https://localhost:8080/"
        },
        "id": "hoRFhsaR5Fuo",
        "outputId": "66c1b4ef-10d2-470d-d21f-4b09b9af69a9"
      },
      "execution_count": 15,
      "outputs": [
        {
          "output_type": "execute_result",
          "data": {
            "text/plain": [
              "(817, 441)"
            ]
          },
          "metadata": {},
          "execution_count": 15
        }
      ]
    },
    {
      "cell_type": "code",
      "source": [
        "import numpy\n",
        "def create_dataset(dataset, time_step=1):\n",
        "  dataX, dataY = [], []\n",
        "  for i in range(len(dataset)-time_step-1):\n",
        "    a = dataset[i:(i+time_step), 0]\n",
        "    dataX.append(a)\n",
        "    dataY.append(dataset[i + time_step, 0])\n",
        "  return numpy.array(dataX), numpy.array(dataY)"
      ],
      "metadata": {
        "id": "11c9gqnM4cbv"
      },
      "execution_count": 16,
      "outputs": []
    },
    {
      "cell_type": "code",
      "source": [
        "time_step = 100\n",
        "X_train, y_train = create_dataset(train_data, time_step)\n",
        "X_test, y_test = create_dataset(test_data, time_step)"
      ],
      "metadata": {
        "id": "kf7Zg3cR40_V"
      },
      "execution_count": 17,
      "outputs": []
    },
    {
      "cell_type": "code",
      "source": [
        "print(X_train)"
      ],
      "metadata": {
        "colab": {
          "base_uri": "https://localhost:8080/"
        },
        "id": "wzhLPQFv6tNh",
        "outputId": "16804d3a-c839-4216-c8ef-b52066590238"
      },
      "execution_count": 18,
      "outputs": [
        {
          "output_type": "stream",
          "name": "stdout",
          "text": [
            "[[0.00524001 0.01046645 0.01048002 ... 0.13189616 0.1299821  0.13649815]\n",
            " [0.01046645 0.01048002 0.01357515 ... 0.1299821  0.13649815 0.14524055]\n",
            " [0.01048002 0.01357515 0.01333081 ... 0.13649815 0.14524055 0.14619079]\n",
            " ...\n",
            " [0.4603062  0.4311468  0.43929189 ... 0.51243481 0.47903997 0.47632494]\n",
            " [0.4311468  0.43929189 0.46269544 ... 0.47903997 0.47632494 0.47925714]\n",
            " [0.43929189 0.46269544 0.45987187 ... 0.47632494 0.47925714 0.48240658]]\n"
          ]
        }
      ]
    },
    {
      "cell_type": "code",
      "source": [
        "print(X_test.shape), print(y_test.shape)"
      ],
      "metadata": {
        "colab": {
          "base_uri": "https://localhost:8080/"
        },
        "id": "QcE2001n63SF",
        "outputId": "899015c0-c351-4adc-e2ad-bd3541031499"
      },
      "execution_count": 19,
      "outputs": [
        {
          "output_type": "stream",
          "name": "stdout",
          "text": [
            "(340, 100)\n",
            "(340,)\n"
          ]
        },
        {
          "output_type": "execute_result",
          "data": {
            "text/plain": [
              "(None, None)"
            ]
          },
          "metadata": {},
          "execution_count": 19
        }
      ]
    },
    {
      "cell_type": "code",
      "source": [
        "X_train = X_train.reshape(X_train.shape[0], X_train.shape[1], 1)\n",
        "X_test = X_test.reshape(X_test.shape[0], X_test.shape[1], 1)"
      ],
      "metadata": {
        "id": "aI000qmm6-DA"
      },
      "execution_count": 20,
      "outputs": []
    },
    {
      "cell_type": "code",
      "source": [
        "from tensorflow.keras.models import Sequential\n",
        "from tensorflow.keras.layers import Dense\n",
        "from tensorflow.keras.layers import LSTM"
      ],
      "metadata": {
        "id": "oGSzML3O7Vlk"
      },
      "execution_count": 21,
      "outputs": []
    },
    {
      "cell_type": "code",
      "source": [
        "model = Sequential()\n",
        "model.add(LSTM(50, return_sequences = True, input_shape=(100,1)))\n",
        "model.add(LSTM(50, return_sequences=True))\n",
        "model.add(LSTM(50))\n",
        "model.add(Dense(1))\n",
        "model.compile(loss='mean_squared_error', optimizer='adam')"
      ],
      "metadata": {
        "colab": {
          "base_uri": "https://localhost:8080/"
        },
        "id": "Mr2uVwJp7ejw",
        "outputId": "230670d6-107e-4dd6-d011-77868a7c40c6"
      },
      "execution_count": 22,
      "outputs": [
        {
          "output_type": "stream",
          "name": "stderr",
          "text": [
            "/usr/local/lib/python3.11/dist-packages/keras/src/layers/rnn/rnn.py:200: UserWarning: Do not pass an `input_shape`/`input_dim` argument to a layer. When using Sequential models, prefer using an `Input(shape)` object as the first layer in the model instead.\n",
            "  super().__init__(**kwargs)\n"
          ]
        }
      ]
    },
    {
      "cell_type": "code",
      "source": [
        "model.summary()"
      ],
      "metadata": {
        "colab": {
          "base_uri": "https://localhost:8080/",
          "height": 257
        },
        "id": "7GWhPDqm70rq",
        "outputId": "7b392f2b-96ea-4065-8170-9f60e4a9b6dc"
      },
      "execution_count": 23,
      "outputs": [
        {
          "output_type": "display_data",
          "data": {
            "text/plain": [
              "\u001b[1mModel: \"sequential\"\u001b[0m\n"
            ],
            "text/html": [
              "<pre style=\"white-space:pre;overflow-x:auto;line-height:normal;font-family:Menlo,'DejaVu Sans Mono',consolas,'Courier New',monospace\"><span style=\"font-weight: bold\">Model: \"sequential\"</span>\n",
              "</pre>\n"
            ]
          },
          "metadata": {}
        },
        {
          "output_type": "display_data",
          "data": {
            "text/plain": [
              "┏━━━━━━━━━━━━━━━━━━━━━━━━━━━━━━━━━┳━━━━━━━━━━━━━━━━━━━━━━━━┳━━━━━━━━━━━━━━━┓\n",
              "┃\u001b[1m \u001b[0m\u001b[1mLayer (type)                   \u001b[0m\u001b[1m \u001b[0m┃\u001b[1m \u001b[0m\u001b[1mOutput Shape          \u001b[0m\u001b[1m \u001b[0m┃\u001b[1m \u001b[0m\u001b[1m      Param #\u001b[0m\u001b[1m \u001b[0m┃\n",
              "┡━━━━━━━━━━━━━━━━━━━━━━━━━━━━━━━━━╇━━━━━━━━━━━━━━━━━━━━━━━━╇━━━━━━━━━━━━━━━┩\n",
              "│ lstm (\u001b[38;5;33mLSTM\u001b[0m)                     │ (\u001b[38;5;45mNone\u001b[0m, \u001b[38;5;34m100\u001b[0m, \u001b[38;5;34m50\u001b[0m)        │        \u001b[38;5;34m10,400\u001b[0m │\n",
              "├─────────────────────────────────┼────────────────────────┼───────────────┤\n",
              "│ lstm_1 (\u001b[38;5;33mLSTM\u001b[0m)                   │ (\u001b[38;5;45mNone\u001b[0m, \u001b[38;5;34m100\u001b[0m, \u001b[38;5;34m50\u001b[0m)        │        \u001b[38;5;34m20,200\u001b[0m │\n",
              "├─────────────────────────────────┼────────────────────────┼───────────────┤\n",
              "│ lstm_2 (\u001b[38;5;33mLSTM\u001b[0m)                   │ (\u001b[38;5;45mNone\u001b[0m, \u001b[38;5;34m50\u001b[0m)             │        \u001b[38;5;34m20,200\u001b[0m │\n",
              "├─────────────────────────────────┼────────────────────────┼───────────────┤\n",
              "│ dense (\u001b[38;5;33mDense\u001b[0m)                   │ (\u001b[38;5;45mNone\u001b[0m, \u001b[38;5;34m1\u001b[0m)              │            \u001b[38;5;34m51\u001b[0m │\n",
              "└─────────────────────────────────┴────────────────────────┴───────────────┘\n"
            ],
            "text/html": [
              "<pre style=\"white-space:pre;overflow-x:auto;line-height:normal;font-family:Menlo,'DejaVu Sans Mono',consolas,'Courier New',monospace\">┏━━━━━━━━━━━━━━━━━━━━━━━━━━━━━━━━━┳━━━━━━━━━━━━━━━━━━━━━━━━┳━━━━━━━━━━━━━━━┓\n",
              "┃<span style=\"font-weight: bold\"> Layer (type)                    </span>┃<span style=\"font-weight: bold\"> Output Shape           </span>┃<span style=\"font-weight: bold\">       Param # </span>┃\n",
              "┡━━━━━━━━━━━━━━━━━━━━━━━━━━━━━━━━━╇━━━━━━━━━━━━━━━━━━━━━━━━╇━━━━━━━━━━━━━━━┩\n",
              "│ lstm (<span style=\"color: #0087ff; text-decoration-color: #0087ff\">LSTM</span>)                     │ (<span style=\"color: #00d7ff; text-decoration-color: #00d7ff\">None</span>, <span style=\"color: #00af00; text-decoration-color: #00af00\">100</span>, <span style=\"color: #00af00; text-decoration-color: #00af00\">50</span>)        │        <span style=\"color: #00af00; text-decoration-color: #00af00\">10,400</span> │\n",
              "├─────────────────────────────────┼────────────────────────┼───────────────┤\n",
              "│ lstm_1 (<span style=\"color: #0087ff; text-decoration-color: #0087ff\">LSTM</span>)                   │ (<span style=\"color: #00d7ff; text-decoration-color: #00d7ff\">None</span>, <span style=\"color: #00af00; text-decoration-color: #00af00\">100</span>, <span style=\"color: #00af00; text-decoration-color: #00af00\">50</span>)        │        <span style=\"color: #00af00; text-decoration-color: #00af00\">20,200</span> │\n",
              "├─────────────────────────────────┼────────────────────────┼───────────────┤\n",
              "│ lstm_2 (<span style=\"color: #0087ff; text-decoration-color: #0087ff\">LSTM</span>)                   │ (<span style=\"color: #00d7ff; text-decoration-color: #00d7ff\">None</span>, <span style=\"color: #00af00; text-decoration-color: #00af00\">50</span>)             │        <span style=\"color: #00af00; text-decoration-color: #00af00\">20,200</span> │\n",
              "├─────────────────────────────────┼────────────────────────┼───────────────┤\n",
              "│ dense (<span style=\"color: #0087ff; text-decoration-color: #0087ff\">Dense</span>)                   │ (<span style=\"color: #00d7ff; text-decoration-color: #00d7ff\">None</span>, <span style=\"color: #00af00; text-decoration-color: #00af00\">1</span>)              │            <span style=\"color: #00af00; text-decoration-color: #00af00\">51</span> │\n",
              "└─────────────────────────────────┴────────────────────────┴───────────────┘\n",
              "</pre>\n"
            ]
          },
          "metadata": {}
        },
        {
          "output_type": "display_data",
          "data": {
            "text/plain": [
              "\u001b[1m Total params: \u001b[0m\u001b[38;5;34m50,851\u001b[0m (198.64 KB)\n"
            ],
            "text/html": [
              "<pre style=\"white-space:pre;overflow-x:auto;line-height:normal;font-family:Menlo,'DejaVu Sans Mono',consolas,'Courier New',monospace\"><span style=\"font-weight: bold\"> Total params: </span><span style=\"color: #00af00; text-decoration-color: #00af00\">50,851</span> (198.64 KB)\n",
              "</pre>\n"
            ]
          },
          "metadata": {}
        },
        {
          "output_type": "display_data",
          "data": {
            "text/plain": [
              "\u001b[1m Trainable params: \u001b[0m\u001b[38;5;34m50,851\u001b[0m (198.64 KB)\n"
            ],
            "text/html": [
              "<pre style=\"white-space:pre;overflow-x:auto;line-height:normal;font-family:Menlo,'DejaVu Sans Mono',consolas,'Courier New',monospace\"><span style=\"font-weight: bold\"> Trainable params: </span><span style=\"color: #00af00; text-decoration-color: #00af00\">50,851</span> (198.64 KB)\n",
              "</pre>\n"
            ]
          },
          "metadata": {}
        },
        {
          "output_type": "display_data",
          "data": {
            "text/plain": [
              "\u001b[1m Non-trainable params: \u001b[0m\u001b[38;5;34m0\u001b[0m (0.00 B)\n"
            ],
            "text/html": [
              "<pre style=\"white-space:pre;overflow-x:auto;line-height:normal;font-family:Menlo,'DejaVu Sans Mono',consolas,'Courier New',monospace\"><span style=\"font-weight: bold\"> Non-trainable params: </span><span style=\"color: #00af00; text-decoration-color: #00af00\">0</span> (0.00 B)\n",
              "</pre>\n"
            ]
          },
          "metadata": {}
        }
      ]
    },
    {
      "cell_type": "code",
      "source": [
        "model.fit(X_train,y_train, validation_data=(X_test, y_test), epochs=100, batch_size=64, verbose=1)"
      ],
      "metadata": {
        "colab": {
          "base_uri": "https://localhost:8080/"
        },
        "id": "6usxVpDB71rw",
        "outputId": "51b86cf2-27c2-4e06-c21a-0910e0c78361"
      },
      "execution_count": 24,
      "outputs": [
        {
          "output_type": "stream",
          "name": "stdout",
          "text": [
            "Epoch 1/100\n",
            "\u001b[1m12/12\u001b[0m \u001b[32m━━━━━━━━━━━━━━━━━━━━\u001b[0m\u001b[37m\u001b[0m \u001b[1m5s\u001b[0m 105ms/step - loss: 0.1010 - val_loss: 0.0339\n",
            "Epoch 2/100\n",
            "\u001b[1m12/12\u001b[0m \u001b[32m━━━━━━━━━━━━━━━━━━━━\u001b[0m\u001b[37m\u001b[0m \u001b[1m0s\u001b[0m 22ms/step - loss: 0.0104 - val_loss: 0.0026\n",
            "Epoch 3/100\n",
            "\u001b[1m12/12\u001b[0m \u001b[32m━━━━━━━━━━━━━━━━━━━━\u001b[0m\u001b[37m\u001b[0m \u001b[1m0s\u001b[0m 23ms/step - loss: 0.0056 - val_loss: 0.0177\n",
            "Epoch 4/100\n",
            "\u001b[1m12/12\u001b[0m \u001b[32m━━━━━━━━━━━━━━━━━━━━\u001b[0m\u001b[37m\u001b[0m \u001b[1m0s\u001b[0m 21ms/step - loss: 0.0028 - val_loss: 0.0093\n",
            "Epoch 5/100\n",
            "\u001b[1m12/12\u001b[0m \u001b[32m━━━━━━━━━━━━━━━━━━━━\u001b[0m\u001b[37m\u001b[0m \u001b[1m0s\u001b[0m 19ms/step - loss: 0.0021 - val_loss: 0.0031\n",
            "Epoch 6/100\n",
            "\u001b[1m12/12\u001b[0m \u001b[32m━━━━━━━━━━━━━━━━━━━━\u001b[0m\u001b[37m\u001b[0m \u001b[1m0s\u001b[0m 20ms/step - loss: 0.0016 - val_loss: 0.0022\n",
            "Epoch 7/100\n",
            "\u001b[1m12/12\u001b[0m \u001b[32m━━━━━━━━━━━━━━━━━━━━\u001b[0m\u001b[37m\u001b[0m \u001b[1m0s\u001b[0m 22ms/step - loss: 0.0016 - val_loss: 0.0021\n",
            "Epoch 8/100\n",
            "\u001b[1m12/12\u001b[0m \u001b[32m━━━━━━━━━━━━━━━━━━━━\u001b[0m\u001b[37m\u001b[0m \u001b[1m0s\u001b[0m 21ms/step - loss: 0.0015 - val_loss: 0.0030\n",
            "Epoch 9/100\n",
            "\u001b[1m12/12\u001b[0m \u001b[32m━━━━━━━━━━━━━━━━━━━━\u001b[0m\u001b[37m\u001b[0m \u001b[1m0s\u001b[0m 19ms/step - loss: 0.0016 - val_loss: 0.0037\n",
            "Epoch 10/100\n",
            "\u001b[1m12/12\u001b[0m \u001b[32m━━━━━━━━━━━━━━━━━━━━\u001b[0m\u001b[37m\u001b[0m \u001b[1m0s\u001b[0m 21ms/step - loss: 0.0016 - val_loss: 0.0043\n",
            "Epoch 11/100\n",
            "\u001b[1m12/12\u001b[0m \u001b[32m━━━━━━━━━━━━━━━━━━━━\u001b[0m\u001b[37m\u001b[0m \u001b[1m0s\u001b[0m 20ms/step - loss: 0.0015 - val_loss: 0.0036\n",
            "Epoch 12/100\n",
            "\u001b[1m12/12\u001b[0m \u001b[32m━━━━━━━━━━━━━━━━━━━━\u001b[0m\u001b[37m\u001b[0m \u001b[1m0s\u001b[0m 21ms/step - loss: 0.0014 - val_loss: 0.0046\n",
            "Epoch 13/100\n",
            "\u001b[1m12/12\u001b[0m \u001b[32m━━━━━━━━━━━━━━━━━━━━\u001b[0m\u001b[37m\u001b[0m \u001b[1m0s\u001b[0m 21ms/step - loss: 0.0014 - val_loss: 0.0039\n",
            "Epoch 14/100\n",
            "\u001b[1m12/12\u001b[0m \u001b[32m━━━━━━━━━━━━━━━━━━━━\u001b[0m\u001b[37m\u001b[0m \u001b[1m0s\u001b[0m 21ms/step - loss: 0.0014 - val_loss: 0.0022\n",
            "Epoch 15/100\n",
            "\u001b[1m12/12\u001b[0m \u001b[32m━━━━━━━━━━━━━━━━━━━━\u001b[0m\u001b[37m\u001b[0m \u001b[1m0s\u001b[0m 20ms/step - loss: 0.0013 - val_loss: 0.0019\n",
            "Epoch 16/100\n",
            "\u001b[1m12/12\u001b[0m \u001b[32m━━━━━━━━━━━━━━━━━━━━\u001b[0m\u001b[37m\u001b[0m \u001b[1m0s\u001b[0m 20ms/step - loss: 0.0013 - val_loss: 0.0027\n",
            "Epoch 17/100\n",
            "\u001b[1m12/12\u001b[0m \u001b[32m━━━━━━━━━━━━━━━━━━━━\u001b[0m\u001b[37m\u001b[0m \u001b[1m0s\u001b[0m 31ms/step - loss: 0.0013 - val_loss: 0.0029\n",
            "Epoch 18/100\n",
            "\u001b[1m12/12\u001b[0m \u001b[32m━━━━━━━━━━━━━━━━━━━━\u001b[0m\u001b[37m\u001b[0m \u001b[1m1s\u001b[0m 35ms/step - loss: 0.0012 - val_loss: 0.0014\n",
            "Epoch 19/100\n",
            "\u001b[1m12/12\u001b[0m \u001b[32m━━━━━━━━━━━━━━━━━━━━\u001b[0m\u001b[37m\u001b[0m \u001b[1m1s\u001b[0m 36ms/step - loss: 0.0013 - val_loss: 0.0033\n",
            "Epoch 20/100\n",
            "\u001b[1m12/12\u001b[0m \u001b[32m━━━━━━━━━━━━━━━━━━━━\u001b[0m\u001b[37m\u001b[0m \u001b[1m0s\u001b[0m 25ms/step - loss: 0.0011 - val_loss: 0.0041\n",
            "Epoch 21/100\n",
            "\u001b[1m12/12\u001b[0m \u001b[32m━━━━━━━━━━━━━━━━━━━━\u001b[0m\u001b[37m\u001b[0m \u001b[1m0s\u001b[0m 20ms/step - loss: 0.0012 - val_loss: 0.0027\n",
            "Epoch 22/100\n",
            "\u001b[1m12/12\u001b[0m \u001b[32m━━━━━━━━━━━━━━━━━━━━\u001b[0m\u001b[37m\u001b[0m \u001b[1m0s\u001b[0m 22ms/step - loss: 0.0010 - val_loss: 0.0015\n",
            "Epoch 23/100\n",
            "\u001b[1m12/12\u001b[0m \u001b[32m━━━━━━━━━━━━━━━━━━━━\u001b[0m\u001b[37m\u001b[0m \u001b[1m0s\u001b[0m 19ms/step - loss: 0.0012 - val_loss: 0.0036\n",
            "Epoch 24/100\n",
            "\u001b[1m12/12\u001b[0m \u001b[32m━━━━━━━━━━━━━━━━━━━━\u001b[0m\u001b[37m\u001b[0m \u001b[1m0s\u001b[0m 19ms/step - loss: 0.0012 - val_loss: 0.0018\n",
            "Epoch 25/100\n",
            "\u001b[1m12/12\u001b[0m \u001b[32m━━━━━━━━━━━━━━━━━━━━\u001b[0m\u001b[37m\u001b[0m \u001b[1m0s\u001b[0m 19ms/step - loss: 0.0012 - val_loss: 0.0055\n",
            "Epoch 26/100\n",
            "\u001b[1m12/12\u001b[0m \u001b[32m━━━━━━━━━━━━━━━━━━━━\u001b[0m\u001b[37m\u001b[0m \u001b[1m0s\u001b[0m 20ms/step - loss: 0.0013 - val_loss: 0.0025\n",
            "Epoch 27/100\n",
            "\u001b[1m12/12\u001b[0m \u001b[32m━━━━━━━━━━━━━━━━━━━━\u001b[0m\u001b[37m\u001b[0m \u001b[1m0s\u001b[0m 20ms/step - loss: 0.0011 - val_loss: 0.0046\n",
            "Epoch 28/100\n",
            "\u001b[1m12/12\u001b[0m \u001b[32m━━━━━━━━━━━━━━━━━━━━\u001b[0m\u001b[37m\u001b[0m \u001b[1m0s\u001b[0m 20ms/step - loss: 0.0011 - val_loss: 0.0024\n",
            "Epoch 29/100\n",
            "\u001b[1m12/12\u001b[0m \u001b[32m━━━━━━━━━━━━━━━━━━━━\u001b[0m\u001b[37m\u001b[0m \u001b[1m0s\u001b[0m 21ms/step - loss: 9.8377e-04 - val_loss: 0.0018\n",
            "Epoch 30/100\n",
            "\u001b[1m12/12\u001b[0m \u001b[32m━━━━━━━━━━━━━━━━━━━━\u001b[0m\u001b[37m\u001b[0m \u001b[1m0s\u001b[0m 21ms/step - loss: 9.9358e-04 - val_loss: 0.0033\n",
            "Epoch 31/100\n",
            "\u001b[1m12/12\u001b[0m \u001b[32m━━━━━━━━━━━━━━━━━━━━\u001b[0m\u001b[37m\u001b[0m \u001b[1m0s\u001b[0m 20ms/step - loss: 9.2649e-04 - val_loss: 0.0013\n",
            "Epoch 32/100\n",
            "\u001b[1m12/12\u001b[0m \u001b[32m━━━━━━━━━━━━━━━━━━━━\u001b[0m\u001b[37m\u001b[0m \u001b[1m0s\u001b[0m 19ms/step - loss: 0.0010 - val_loss: 0.0035\n",
            "Epoch 33/100\n",
            "\u001b[1m12/12\u001b[0m \u001b[32m━━━━━━━━━━━━━━━━━━━━\u001b[0m\u001b[37m\u001b[0m \u001b[1m0s\u001b[0m 22ms/step - loss: 0.0011 - val_loss: 0.0023\n",
            "Epoch 34/100\n",
            "\u001b[1m12/12\u001b[0m \u001b[32m━━━━━━━━━━━━━━━━━━━━\u001b[0m\u001b[37m\u001b[0m \u001b[1m0s\u001b[0m 22ms/step - loss: 8.9362e-04 - val_loss: 0.0023\n",
            "Epoch 35/100\n",
            "\u001b[1m12/12\u001b[0m \u001b[32m━━━━━━━━━━━━━━━━━━━━\u001b[0m\u001b[37m\u001b[0m \u001b[1m0s\u001b[0m 22ms/step - loss: 8.6548e-04 - val_loss: 0.0020\n",
            "Epoch 36/100\n",
            "\u001b[1m12/12\u001b[0m \u001b[32m━━━━━━━━━━━━━━━━━━━━\u001b[0m\u001b[37m\u001b[0m \u001b[1m0s\u001b[0m 21ms/step - loss: 8.7129e-04 - val_loss: 0.0013\n",
            "Epoch 37/100\n",
            "\u001b[1m12/12\u001b[0m \u001b[32m━━━━━━━━━━━━━━━━━━━━\u001b[0m\u001b[37m\u001b[0m \u001b[1m0s\u001b[0m 22ms/step - loss: 9.0793e-04 - val_loss: 0.0020\n",
            "Epoch 38/100\n",
            "\u001b[1m12/12\u001b[0m \u001b[32m━━━━━━━━━━━━━━━━━━━━\u001b[0m\u001b[37m\u001b[0m \u001b[1m0s\u001b[0m 19ms/step - loss: 8.3678e-04 - val_loss: 0.0015\n",
            "Epoch 39/100\n",
            "\u001b[1m12/12\u001b[0m \u001b[32m━━━━━━━━━━━━━━━━━━━━\u001b[0m\u001b[37m\u001b[0m \u001b[1m0s\u001b[0m 20ms/step - loss: 8.8372e-04 - val_loss: 0.0022\n",
            "Epoch 40/100\n",
            "\u001b[1m12/12\u001b[0m \u001b[32m━━━━━━━━━━━━━━━━━━━━\u001b[0m\u001b[37m\u001b[0m \u001b[1m0s\u001b[0m 20ms/step - loss: 8.3107e-04 - val_loss: 0.0011\n",
            "Epoch 41/100\n",
            "\u001b[1m12/12\u001b[0m \u001b[32m━━━━━━━━━━━━━━━━━━━━\u001b[0m\u001b[37m\u001b[0m \u001b[1m0s\u001b[0m 21ms/step - loss: 0.0010 - val_loss: 0.0030\n",
            "Epoch 42/100\n",
            "\u001b[1m12/12\u001b[0m \u001b[32m━━━━━━━━━━━━━━━━━━━━\u001b[0m\u001b[37m\u001b[0m \u001b[1m0s\u001b[0m 19ms/step - loss: 8.8337e-04 - val_loss: 0.0014\n",
            "Epoch 43/100\n",
            "\u001b[1m12/12\u001b[0m \u001b[32m━━━━━━━━━━━━━━━━━━━━\u001b[0m\u001b[37m\u001b[0m \u001b[1m0s\u001b[0m 21ms/step - loss: 8.1939e-04 - val_loss: 9.8490e-04\n",
            "Epoch 44/100\n",
            "\u001b[1m12/12\u001b[0m \u001b[32m━━━━━━━━━━━━━━━━━━━━\u001b[0m\u001b[37m\u001b[0m \u001b[1m0s\u001b[0m 20ms/step - loss: 8.1762e-04 - val_loss: 0.0038\n",
            "Epoch 45/100\n",
            "\u001b[1m12/12\u001b[0m \u001b[32m━━━━━━━━━━━━━━━━━━━━\u001b[0m\u001b[37m\u001b[0m \u001b[1m0s\u001b[0m 19ms/step - loss: 9.1979e-04 - val_loss: 0.0014\n",
            "Epoch 46/100\n",
            "\u001b[1m12/12\u001b[0m \u001b[32m━━━━━━━━━━━━━━━━━━━━\u001b[0m\u001b[37m\u001b[0m \u001b[1m0s\u001b[0m 19ms/step - loss: 8.5193e-04 - val_loss: 0.0011\n",
            "Epoch 47/100\n",
            "\u001b[1m12/12\u001b[0m \u001b[32m━━━━━━━━━━━━━━━━━━━━\u001b[0m\u001b[37m\u001b[0m \u001b[1m0s\u001b[0m 21ms/step - loss: 8.0449e-04 - val_loss: 0.0012\n",
            "Epoch 48/100\n",
            "\u001b[1m12/12\u001b[0m \u001b[32m━━━━━━━━━━━━━━━━━━━━\u001b[0m\u001b[37m\u001b[0m \u001b[1m0s\u001b[0m 22ms/step - loss: 7.0862e-04 - val_loss: 0.0015\n",
            "Epoch 49/100\n",
            "\u001b[1m12/12\u001b[0m \u001b[32m━━━━━━━━━━━━━━━━━━━━\u001b[0m\u001b[37m\u001b[0m \u001b[1m0s\u001b[0m 19ms/step - loss: 7.3335e-04 - val_loss: 0.0012\n",
            "Epoch 50/100\n",
            "\u001b[1m12/12\u001b[0m \u001b[32m━━━━━━━━━━━━━━━━━━━━\u001b[0m\u001b[37m\u001b[0m \u001b[1m0s\u001b[0m 20ms/step - loss: 7.0256e-04 - val_loss: 9.7605e-04\n",
            "Epoch 51/100\n",
            "\u001b[1m12/12\u001b[0m \u001b[32m━━━━━━━━━━━━━━━━━━━━\u001b[0m\u001b[37m\u001b[0m \u001b[1m0s\u001b[0m 19ms/step - loss: 7.7614e-04 - val_loss: 0.0022\n",
            "Epoch 52/100\n",
            "\u001b[1m12/12\u001b[0m \u001b[32m━━━━━━━━━━━━━━━━━━━━\u001b[0m\u001b[37m\u001b[0m \u001b[1m0s\u001b[0m 21ms/step - loss: 7.5869e-04 - val_loss: 0.0012\n",
            "Epoch 53/100\n",
            "\u001b[1m12/12\u001b[0m \u001b[32m━━━━━━━━━━━━━━━━━━━━\u001b[0m\u001b[37m\u001b[0m \u001b[1m0s\u001b[0m 20ms/step - loss: 7.2639e-04 - val_loss: 0.0015\n",
            "Epoch 54/100\n",
            "\u001b[1m12/12\u001b[0m \u001b[32m━━━━━━━━━━━━━━━━━━━━\u001b[0m\u001b[37m\u001b[0m \u001b[1m0s\u001b[0m 21ms/step - loss: 6.5510e-04 - val_loss: 0.0023\n",
            "Epoch 55/100\n",
            "\u001b[1m12/12\u001b[0m \u001b[32m━━━━━━━━━━━━━━━━━━━━\u001b[0m\u001b[37m\u001b[0m \u001b[1m0s\u001b[0m 20ms/step - loss: 7.2348e-04 - val_loss: 0.0016\n",
            "Epoch 56/100\n",
            "\u001b[1m12/12\u001b[0m \u001b[32m━━━━━━━━━━━━━━━━━━━━\u001b[0m\u001b[37m\u001b[0m \u001b[1m0s\u001b[0m 29ms/step - loss: 7.0548e-04 - val_loss: 0.0015\n",
            "Epoch 57/100\n",
            "\u001b[1m12/12\u001b[0m \u001b[32m━━━━━━━━━━━━━━━━━━━━\u001b[0m\u001b[37m\u001b[0m \u001b[1m1s\u001b[0m 28ms/step - loss: 7.0803e-04 - val_loss: 8.1562e-04\n",
            "Epoch 58/100\n",
            "\u001b[1m12/12\u001b[0m \u001b[32m━━━━━━━━━━━━━━━━━━━━\u001b[0m\u001b[37m\u001b[0m \u001b[1m1s\u001b[0m 36ms/step - loss: 6.6922e-04 - val_loss: 8.8684e-04\n",
            "Epoch 59/100\n",
            "\u001b[1m12/12\u001b[0m \u001b[32m━━━━━━━━━━━━━━━━━━━━\u001b[0m\u001b[37m\u001b[0m \u001b[1m0s\u001b[0m 22ms/step - loss: 5.8945e-04 - val_loss: 9.1932e-04\n",
            "Epoch 60/100\n",
            "\u001b[1m12/12\u001b[0m \u001b[32m━━━━━━━━━━━━━━━━━━━━\u001b[0m\u001b[37m\u001b[0m \u001b[1m0s\u001b[0m 36ms/step - loss: 6.8618e-04 - val_loss: 0.0023\n",
            "Epoch 61/100\n",
            "\u001b[1m12/12\u001b[0m \u001b[32m━━━━━━━━━━━━━━━━━━━━\u001b[0m\u001b[37m\u001b[0m \u001b[1m0s\u001b[0m 20ms/step - loss: 7.6424e-04 - val_loss: 0.0010\n",
            "Epoch 62/100\n",
            "\u001b[1m12/12\u001b[0m \u001b[32m━━━━━━━━━━━━━━━━━━━━\u001b[0m\u001b[37m\u001b[0m \u001b[1m0s\u001b[0m 31ms/step - loss: 6.3148e-04 - val_loss: 8.1340e-04\n",
            "Epoch 63/100\n",
            "\u001b[1m12/12\u001b[0m \u001b[32m━━━━━━━━━━━━━━━━━━━━\u001b[0m\u001b[37m\u001b[0m \u001b[1m0s\u001b[0m 21ms/step - loss: 5.6959e-04 - val_loss: 0.0022\n",
            "Epoch 64/100\n",
            "\u001b[1m12/12\u001b[0m \u001b[32m━━━━━━━━━━━━━━━━━━━━\u001b[0m\u001b[37m\u001b[0m \u001b[1m0s\u001b[0m 21ms/step - loss: 7.6236e-04 - val_loss: 0.0019\n",
            "Epoch 65/100\n",
            "\u001b[1m12/12\u001b[0m \u001b[32m━━━━━━━━━━━━━━━━━━━━\u001b[0m\u001b[37m\u001b[0m \u001b[1m0s\u001b[0m 29ms/step - loss: 6.7718e-04 - val_loss: 5.7243e-04\n",
            "Epoch 66/100\n",
            "\u001b[1m12/12\u001b[0m \u001b[32m━━━━━━━━━━━━━━━━━━━━\u001b[0m\u001b[37m\u001b[0m \u001b[1m0s\u001b[0m 19ms/step - loss: 6.5973e-04 - val_loss: 0.0011\n",
            "Epoch 67/100\n",
            "\u001b[1m12/12\u001b[0m \u001b[32m━━━━━━━━━━━━━━━━━━━━\u001b[0m\u001b[37m\u001b[0m \u001b[1m0s\u001b[0m 20ms/step - loss: 5.4408e-04 - val_loss: 0.0012\n",
            "Epoch 68/100\n",
            "\u001b[1m12/12\u001b[0m \u001b[32m━━━━━━━━━━━━━━━━━━━━\u001b[0m\u001b[37m\u001b[0m \u001b[1m0s\u001b[0m 21ms/step - loss: 5.8394e-04 - val_loss: 0.0013\n",
            "Epoch 69/100\n",
            "\u001b[1m12/12\u001b[0m \u001b[32m━━━━━━━━━━━━━━━━━━━━\u001b[0m\u001b[37m\u001b[0m \u001b[1m0s\u001b[0m 19ms/step - loss: 5.7406e-04 - val_loss: 8.4150e-04\n",
            "Epoch 70/100\n",
            "\u001b[1m12/12\u001b[0m \u001b[32m━━━━━━━━━━━━━━━━━━━━\u001b[0m\u001b[37m\u001b[0m \u001b[1m0s\u001b[0m 20ms/step - loss: 8.1583e-04 - val_loss: 6.0095e-04\n",
            "Epoch 71/100\n",
            "\u001b[1m12/12\u001b[0m \u001b[32m━━━━━━━━━━━━━━━━━━━━\u001b[0m\u001b[37m\u001b[0m \u001b[1m0s\u001b[0m 21ms/step - loss: 6.9119e-04 - val_loss: 6.1595e-04\n",
            "Epoch 72/100\n",
            "\u001b[1m12/12\u001b[0m \u001b[32m━━━━━━━━━━━━━━━━━━━━\u001b[0m\u001b[37m\u001b[0m \u001b[1m0s\u001b[0m 20ms/step - loss: 5.0596e-04 - val_loss: 6.7949e-04\n",
            "Epoch 73/100\n",
            "\u001b[1m12/12\u001b[0m \u001b[32m━━━━━━━━━━━━━━━━━━━━\u001b[0m\u001b[37m\u001b[0m \u001b[1m0s\u001b[0m 21ms/step - loss: 5.0139e-04 - val_loss: 5.9404e-04\n",
            "Epoch 74/100\n",
            "\u001b[1m12/12\u001b[0m \u001b[32m━━━━━━━━━━━━━━━━━━━━\u001b[0m\u001b[37m\u001b[0m \u001b[1m0s\u001b[0m 21ms/step - loss: 4.7957e-04 - val_loss: 9.1761e-04\n",
            "Epoch 75/100\n",
            "\u001b[1m12/12\u001b[0m \u001b[32m━━━━━━━━━━━━━━━━━━━━\u001b[0m\u001b[37m\u001b[0m \u001b[1m0s\u001b[0m 20ms/step - loss: 4.8889e-04 - val_loss: 7.9947e-04\n",
            "Epoch 76/100\n",
            "\u001b[1m12/12\u001b[0m \u001b[32m━━━━━━━━━━━━━━━━━━━━\u001b[0m\u001b[37m\u001b[0m \u001b[1m0s\u001b[0m 22ms/step - loss: 5.1607e-04 - val_loss: 5.4923e-04\n",
            "Epoch 77/100\n",
            "\u001b[1m12/12\u001b[0m \u001b[32m━━━━━━━━━━━━━━━━━━━━\u001b[0m\u001b[37m\u001b[0m \u001b[1m0s\u001b[0m 20ms/step - loss: 5.7929e-04 - val_loss: 0.0012\n",
            "Epoch 78/100\n",
            "\u001b[1m12/12\u001b[0m \u001b[32m━━━━━━━━━━━━━━━━━━━━\u001b[0m\u001b[37m\u001b[0m \u001b[1m0s\u001b[0m 20ms/step - loss: 8.3409e-04 - val_loss: 4.9551e-04\n",
            "Epoch 79/100\n",
            "\u001b[1m12/12\u001b[0m \u001b[32m━━━━━━━━━━━━━━━━━━━━\u001b[0m\u001b[37m\u001b[0m \u001b[1m0s\u001b[0m 20ms/step - loss: 4.8718e-04 - val_loss: 8.1685e-04\n",
            "Epoch 80/100\n",
            "\u001b[1m12/12\u001b[0m \u001b[32m━━━━━━━━━━━━━━━━━━━━\u001b[0m\u001b[37m\u001b[0m \u001b[1m0s\u001b[0m 19ms/step - loss: 4.8977e-04 - val_loss: 0.0015\n",
            "Epoch 81/100\n",
            "\u001b[1m12/12\u001b[0m \u001b[32m━━━━━━━━━━━━━━━━━━━━\u001b[0m\u001b[37m\u001b[0m \u001b[1m0s\u001b[0m 20ms/step - loss: 5.8947e-04 - val_loss: 0.0012\n",
            "Epoch 82/100\n",
            "\u001b[1m12/12\u001b[0m \u001b[32m━━━━━━━━━━━━━━━━━━━━\u001b[0m\u001b[37m\u001b[0m \u001b[1m0s\u001b[0m 23ms/step - loss: 4.9697e-04 - val_loss: 4.0642e-04\n",
            "Epoch 83/100\n",
            "\u001b[1m12/12\u001b[0m \u001b[32m━━━━━━━━━━━━━━━━━━━━\u001b[0m\u001b[37m\u001b[0m \u001b[1m0s\u001b[0m 21ms/step - loss: 4.6634e-04 - val_loss: 0.0012\n",
            "Epoch 84/100\n",
            "\u001b[1m12/12\u001b[0m \u001b[32m━━━━━━━━━━━━━━━━━━━━\u001b[0m\u001b[37m\u001b[0m \u001b[1m0s\u001b[0m 21ms/step - loss: 4.7329e-04 - val_loss: 0.0010\n",
            "Epoch 85/100\n",
            "\u001b[1m12/12\u001b[0m \u001b[32m━━━━━━━━━━━━━━━━━━━━\u001b[0m\u001b[37m\u001b[0m \u001b[1m0s\u001b[0m 22ms/step - loss: 4.8807e-04 - val_loss: 0.0010\n",
            "Epoch 86/100\n",
            "\u001b[1m12/12\u001b[0m \u001b[32m━━━━━━━━━━━━━━━━━━━━\u001b[0m\u001b[37m\u001b[0m \u001b[1m0s\u001b[0m 20ms/step - loss: 4.7323e-04 - val_loss: 3.7832e-04\n",
            "Epoch 87/100\n",
            "\u001b[1m12/12\u001b[0m \u001b[32m━━━━━━━━━━━━━━━━━━━━\u001b[0m\u001b[37m\u001b[0m \u001b[1m0s\u001b[0m 22ms/step - loss: 4.1900e-04 - val_loss: 4.2766e-04\n",
            "Epoch 88/100\n",
            "\u001b[1m12/12\u001b[0m \u001b[32m━━━━━━━━━━━━━━━━━━━━\u001b[0m\u001b[37m\u001b[0m \u001b[1m0s\u001b[0m 19ms/step - loss: 4.2124e-04 - val_loss: 4.0088e-04\n",
            "Epoch 89/100\n",
            "\u001b[1m12/12\u001b[0m \u001b[32m━━━━━━━━━━━━━━━━━━━━\u001b[0m\u001b[37m\u001b[0m \u001b[1m0s\u001b[0m 21ms/step - loss: 4.4204e-04 - val_loss: 4.0240e-04\n",
            "Epoch 90/100\n",
            "\u001b[1m12/12\u001b[0m \u001b[32m━━━━━━━━━━━━━━━━━━━━\u001b[0m\u001b[37m\u001b[0m \u001b[1m0s\u001b[0m 20ms/step - loss: 3.9678e-04 - val_loss: 5.4044e-04\n",
            "Epoch 91/100\n",
            "\u001b[1m12/12\u001b[0m \u001b[32m━━━━━━━━━━━━━━━━━━━━\u001b[0m\u001b[37m\u001b[0m \u001b[1m0s\u001b[0m 20ms/step - loss: 4.2637e-04 - val_loss: 5.6169e-04\n",
            "Epoch 92/100\n",
            "\u001b[1m12/12\u001b[0m \u001b[32m━━━━━━━━━━━━━━━━━━━━\u001b[0m\u001b[37m\u001b[0m \u001b[1m0s\u001b[0m 33ms/step - loss: 3.9076e-04 - val_loss: 3.4675e-04\n",
            "Epoch 93/100\n",
            "\u001b[1m12/12\u001b[0m \u001b[32m━━━━━━━━━━━━━━━━━━━━\u001b[0m\u001b[37m\u001b[0m \u001b[1m0s\u001b[0m 31ms/step - loss: 4.0071e-04 - val_loss: 6.9300e-04\n",
            "Epoch 94/100\n",
            "\u001b[1m12/12\u001b[0m \u001b[32m━━━━━━━━━━━━━━━━━━━━\u001b[0m\u001b[37m\u001b[0m \u001b[1m1s\u001b[0m 35ms/step - loss: 5.7439e-04 - val_loss: 3.4411e-04\n",
            "Epoch 95/100\n",
            "\u001b[1m12/12\u001b[0m \u001b[32m━━━━━━━━━━━━━━━━━━━━\u001b[0m\u001b[37m\u001b[0m \u001b[1m0s\u001b[0m 30ms/step - loss: 5.1152e-04 - val_loss: 5.1635e-04\n",
            "Epoch 96/100\n",
            "\u001b[1m12/12\u001b[0m \u001b[32m━━━━━━━━━━━━━━━━━━━━\u001b[0m\u001b[37m\u001b[0m \u001b[1m0s\u001b[0m 26ms/step - loss: 3.8747e-04 - val_loss: 8.2334e-04\n",
            "Epoch 97/100\n",
            "\u001b[1m12/12\u001b[0m \u001b[32m━━━━━━━━━━━━━━━━━━━━\u001b[0m\u001b[37m\u001b[0m \u001b[1m1s\u001b[0m 20ms/step - loss: 3.9418e-04 - val_loss: 5.5428e-04\n",
            "Epoch 98/100\n",
            "\u001b[1m12/12\u001b[0m \u001b[32m━━━━━━━━━━━━━━━━━━━━\u001b[0m\u001b[37m\u001b[0m \u001b[1m0s\u001b[0m 22ms/step - loss: 3.6685e-04 - val_loss: 4.4769e-04\n",
            "Epoch 99/100\n",
            "\u001b[1m12/12\u001b[0m \u001b[32m━━━━━━━━━━━━━━━━━━━━\u001b[0m\u001b[37m\u001b[0m \u001b[1m0s\u001b[0m 20ms/step - loss: 3.8603e-04 - val_loss: 9.5291e-04\n",
            "Epoch 100/100\n",
            "\u001b[1m12/12\u001b[0m \u001b[32m━━━━━━━━━━━━━━━━━━━━\u001b[0m\u001b[37m\u001b[0m \u001b[1m0s\u001b[0m 20ms/step - loss: 4.2461e-04 - val_loss: 7.4970e-04\n"
          ]
        },
        {
          "output_type": "execute_result",
          "data": {
            "text/plain": [
              "<keras.src.callbacks.history.History at 0x799beb8acdd0>"
            ]
          },
          "metadata": {},
          "execution_count": 24
        }
      ]
    },
    {
      "cell_type": "code",
      "source": [
        "import tensorflow as tf"
      ],
      "metadata": {
        "id": "RjVWy0dc8yp4"
      },
      "execution_count": 25,
      "outputs": []
    },
    {
      "cell_type": "code",
      "source": [
        "train_predict = model.predict(X_train)\n",
        "test_predict = model.predict(X_test)"
      ],
      "metadata": {
        "colab": {
          "base_uri": "https://localhost:8080/"
        },
        "id": "rENBJwZS89lM",
        "outputId": "253e1a59-6db8-4480-f038-b77a419bb410"
      },
      "execution_count": 26,
      "outputs": [
        {
          "output_type": "stream",
          "name": "stdout",
          "text": [
            "\u001b[1m23/23\u001b[0m \u001b[32m━━━━━━━━━━━━━━━━━━━━\u001b[0m\u001b[37m\u001b[0m \u001b[1m1s\u001b[0m 28ms/step\n",
            "\u001b[1m11/11\u001b[0m \u001b[32m━━━━━━━━━━━━━━━━━━━━\u001b[0m\u001b[37m\u001b[0m \u001b[1m0s\u001b[0m 10ms/step\n"
          ]
        }
      ]
    },
    {
      "cell_type": "code",
      "source": [
        "train_predict=scaler.inverse_transform(train_predict)"
      ],
      "metadata": {
        "id": "5ZzC_QNV9Olb"
      },
      "execution_count": 27,
      "outputs": []
    },
    {
      "cell_type": "code",
      "source": [
        "test_predict = scaler.inverse_transform(test_predict)"
      ],
      "metadata": {
        "id": "QQqSeHIH9TN-"
      },
      "execution_count": 28,
      "outputs": []
    },
    {
      "cell_type": "code",
      "source": [
        "import math\n",
        "from sklearn.metrics import mean_squared_error\n",
        "math.sqrt(mean_squared_error(y_train, train_predict))"
      ],
      "metadata": {
        "colab": {
          "base_uri": "https://localhost:8080/"
        },
        "id": "4NCDOmw-9WZP",
        "outputId": "ac96e79d-cfec-487a-80df-40d5a81d0201"
      },
      "execution_count": 29,
      "outputs": [
        {
          "output_type": "execute_result",
          "data": {
            "text/plain": [
              "131.83127186431236"
            ]
          },
          "metadata": {},
          "execution_count": 29
        }
      ]
    },
    {
      "cell_type": "code",
      "source": [
        "math.sqrt(mean_squared_error(y_test, test_predict))"
      ],
      "metadata": {
        "colab": {
          "base_uri": "https://localhost:8080/"
        },
        "id": "eKOwcRj-9go5",
        "outputId": "abac0d64-ad44-4ed8-f976-18cc3a58e659"
      },
      "execution_count": 30,
      "outputs": [
        {
          "output_type": "execute_result",
          "data": {
            "text/plain": [
              "182.11472871018398"
            ]
          },
          "metadata": {},
          "execution_count": 30
        }
      ]
    },
    {
      "cell_type": "code",
      "source": [
        "look_back=100\n",
        "trainPredictPlot = numpy.empty_like(df1)\n",
        "trainPredictPlot[:, :] = np.nan\n",
        "trainPredictPlot[look_back:len(train_predict)+look_back, :] = train_predict\n",
        "\n",
        "testPredictPlot = numpy.empty_like(df1)\n",
        "testPredictPlot[:, :] = numpy.nan\n",
        "testPredictPlot[len(train_predict)+(look_back*2)+1:len(df1)-1, :] = test_predict\n",
        "\n",
        "plt.plot(scaler.inverse_transform(df1))\n",
        "plt.plot(trainPredictPlot)\n",
        "plt.plot(testPredictPlot)\n",
        "plt.show()"
      ],
      "metadata": {
        "colab": {
          "base_uri": "https://localhost:8080/",
          "height": 430
        },
        "id": "IpIvKfe_9fub",
        "outputId": "f1f9abe7-800d-42ff-e972-58e371037fd5"
      },
      "execution_count": 31,
      "outputs": [
        {
          "output_type": "display_data",
          "data": {
            "text/plain": [
              "<Figure size 640x480 with 1 Axes>"
            ],
            "image/png": "[encoded data removed]"
          },
          "metadata": {}
        }
      ]
    },
    {
      "cell_type": "code",
      "source": [
        "len(test_data)"
      ],
      "metadata": {
        "colab": {
          "base_uri": "https://localhost:8080/"
        },
        "id": "vk4dnapG-P0r",
        "outputId": "c11503da-a0bb-4832-9b8e-6bb329b91116"
      },
      "execution_count": 32,
      "outputs": [
        {
          "output_type": "execute_result",
          "data": {
            "text/plain": [
              "441"
            ]
          },
          "metadata": {},
          "execution_count": 32
        }
      ]
    },
    {
      "cell_type": "code",
      "source": [
        "x_input=test_data[341:].reshape(1,-1)\n",
        "x_input.shape"
      ],
      "metadata": {
        "colab": {
          "base_uri": "https://localhost:8080/"
        },
        "id": "PsuexW1_-RMU",
        "outputId": "2ae37ccd-579b-4243-cf9c-7daa98892423"
      },
      "execution_count": 33,
      "outputs": [
        {
          "output_type": "execute_result",
          "data": {
            "text/plain": [
              "(1, 100)"
            ]
          },
          "metadata": {},
          "execution_count": 33
        }
      ]
    },
    {
      "cell_type": "code",
      "source": [
        "temp_input=list(x_input)\n",
        "temp_input=temp_input[0].tolist()"
      ],
      "metadata": {
        "id": "ATGQInio-TaG"
      },
      "execution_count": 34,
      "outputs": []
    },
    {
      "cell_type": "code",
      "source": [
        "from numpy import array\n",
        "\n",
        "lst_output=[]\n",
        "n_steps=100\n",
        "i=0\n",
        "while(i<30):\n",
        "\n",
        "    if(len(temp_input)>100):\n",
        "\n",
        "        x_input=np.array(temp_input[1:])\n",
        "        print(\"{} day input {}\".format(i,x_input))\n",
        "        x_input=x_input.reshape(1,-1)\n",
        "        x_input = x_input.reshape((1, n_steps, 1))\n",
        "\n",
        "        yhat = model.predict(x_input, verbose=0)\n",
        "        print(\"{} day output {}\".format(i,yhat))\n",
        "        temp_input.extend(yhat[0].tolist())\n",
        "        temp_input=temp_input[1:]\n",
        "\n",
        "        lst_output.extend(yhat.tolist())\n",
        "        i=i+1\n",
        "    else:\n",
        "        x_input = x_input.reshape((1, n_steps,1))\n",
        "        yhat = model.predict(x_input, verbose=0)\n",
        "        print(yhat[0])\n",
        "        temp_input.extend(yhat[0].tolist())\n",
        "        print(len(temp_input))\n",
        "        lst_output.extend(yhat.tolist())\n",
        "        i=i+1\n",
        "\n",
        "\n",
        "print(lst_output)"
      ],
      "metadata": {
        "colab": {
          "base_uri": "https://localhost:8080/"
        },
        "id": "Kixuz6rR-ahr",
        "outputId": "833a3c56-a22f-44de-a5d4-b5590dd9faa2"
      },
      "execution_count": 35,
      "outputs": [
        {
          "output_type": "stream",
          "name": "stdout",
          "text": [
            "[0.9086645]\n",
            "101\n",
            "1 day input [0.64644875 0.66599692 0.6560599  0.64818633 0.64172454 0.64612288\n",
            " 0.641616   0.64574282 0.63960682 0.6462315  0.63596869 0.6753909\n",
            " 0.68359035 0.66263031 0.64465682 0.63716331 0.63195042 0.62087313\n",
            " 0.62543436 0.63119021 0.642702   0.64742612 0.64422241 0.66702865\n",
            " 0.64981536 0.64422241 0.66447651 0.72067767 0.71160948 0.71535615\n",
            " 0.71720243 0.72713945 0.71888574 0.73642481 0.74266935 0.75510423\n",
            " 0.75575581 0.75591871 0.76227187 0.76938532 0.76151167 0.73968288\n",
            " 0.75651602 0.75657037 0.75819933 0.76362939 0.76884228 0.77850778\n",
            " 0.78024544 0.78849907 0.7809513  0.79403776 0.77356641 0.84975015\n",
            " 0.88189618 0.88824934 0.87874674 0.90144435 0.88852078 0.8634882\n",
            " 0.85159643 0.85512594 0.86017594 0.88287355 0.88748914 0.86859247\n",
            " 0.90187877 0.9209926  0.92794307 0.95395303 0.96198958 0.96665935\n",
            " 0.99000863 0.96063206 0.97675926 0.9977193  1.         0.96774543\n",
            " 0.94222408 0.94293001 0.94102954 0.94673104 0.91159854 0.90589704\n",
            " 0.90844918 0.90996958 0.91301041 0.930821   0.91062117 0.91876626\n",
            " 0.86126194 0.85018457 0.86424848 0.88319935 0.89910946 0.90611421\n",
            " 0.92642266 0.92886617 0.94515636 0.90866452]\n",
            "1 day output [[0.89702934]]\n",
            "2 day input [0.66599692 0.6560599  0.64818633 0.64172454 0.64612288 0.641616\n",
            " 0.64574282 0.63960682 0.6462315  0.63596869 0.6753909  0.68359035\n",
            " 0.66263031 0.64465682 0.63716331 0.63195042 0.62087313 0.62543436\n",
            " 0.63119021 0.642702   0.64742612 0.64422241 0.66702865 0.64981536\n",
            " 0.64422241 0.66447651 0.72067767 0.71160948 0.71535615 0.71720243\n",
            " 0.72713945 0.71888574 0.73642481 0.74266935 0.75510423 0.75575581\n",
            " 0.75591871 0.76227187 0.76938532 0.76151167 0.73968288 0.75651602\n",
            " 0.75657037 0.75819933 0.76362939 0.76884228 0.77850778 0.78024544\n",
            " 0.78849907 0.7809513  0.79403776 0.77356641 0.84975015 0.88189618\n",
            " 0.88824934 0.87874674 0.90144435 0.88852078 0.8634882  0.85159643\n",
            " 0.85512594 0.86017594 0.88287355 0.88748914 0.86859247 0.90187877\n",
            " 0.9209926  0.92794307 0.95395303 0.96198958 0.96665935 0.99000863\n",
            " 0.96063206 0.97675926 0.9977193  1.         0.96774543 0.94222408\n",
            " 0.94293001 0.94102954 0.94673104 0.91159854 0.90589704 0.90844918\n",
            " 0.90996958 0.91301041 0.930821   0.91062117 0.91876626 0.86126194\n",
            " 0.85018457 0.86424848 0.88319935 0.89910946 0.90611421 0.92642266\n",
            " 0.92886617 0.94515636 0.90866452 0.89702934]\n",
            "2 day output [[0.87741274]]\n",
            "3 day input [0.6560599  0.64818633 0.64172454 0.64612288 0.641616   0.64574282\n",
            " 0.63960682 0.6462315  0.63596869 0.6753909  0.68359035 0.66263031\n",
            " 0.64465682 0.63716331 0.63195042 0.62087313 0.62543436 0.63119021\n",
            " 0.642702   0.64742612 0.64422241 0.66702865 0.64981536 0.64422241\n",
            " 0.66447651 0.72067767 0.71160948 0.71535615 0.71720243 0.72713945\n",
            " 0.71888574 0.73642481 0.74266935 0.75510423 0.75575581 0.75591871\n",
            " 0.76227187 0.76938532 0.76151167 0.73968288 0.75651602 0.75657037\n",
            " 0.75819933 0.76362939 0.76884228 0.77850778 0.78024544 0.78849907\n",
            " 0.7809513  0.79403776 0.77356641 0.84975015 0.88189618 0.88824934\n",
            " 0.87874674 0.90144435 0.88852078 0.8634882  0.85159643 0.85512594\n",
            " 0.86017594 0.88287355 0.88748914 0.86859247 0.90187877 0.9209926\n",
            " 0.92794307 0.95395303 0.96198958 0.96665935 0.99000863 0.96063206\n",
            " 0.97675926 0.9977193  1.         0.96774543 0.94222408 0.94293001\n",
            " 0.94102954 0.94673104 0.91159854 0.90589704 0.90844918 0.90996958\n",
            " 0.91301041 0.930821   0.91062117 0.91876626 0.86126194 0.85018457\n",
            " 0.86424848 0.88319935 0.89910946 0.90611421 0.92642266 0.92886617\n",
            " 0.94515636 0.90866452 0.89702934 0.87741274]\n",
            "3 day output [[0.8554802]]\n",
            "4 day input [0.64818633 0.64172454 0.64612288 0.641616   0.64574282 0.63960682\n",
            " 0.6462315  0.63596869 0.6753909  0.68359035 0.66263031 0.64465682\n",
            " 0.63716331 0.63195042 0.62087313 0.62543436 0.63119021 0.642702\n",
            " 0.64742612 0.64422241 0.66702865 0.64981536 0.64422241 0.66447651\n",
            " 0.72067767 0.71160948 0.71535615 0.71720243 0.72713945 0.71888574\n",
            " 0.73642481 0.74266935 0.75510423 0.75575581 0.75591871 0.76227187\n",
            " 0.76938532 0.76151167 0.73968288 0.75651602 0.75657037 0.75819933\n",
            " 0.76362939 0.76884228 0.77850778 0.78024544 0.78849907 0.7809513\n",
            " 0.79403776 0.77356641 0.84975015 0.88189618 0.88824934 0.87874674\n",
            " 0.90144435 0.88852078 0.8634882  0.85159643 0.85512594 0.86017594\n",
            " 0.88287355 0.88748914 0.86859247 0.90187877 0.9209926  0.92794307\n",
            " 0.95395303 0.96198958 0.96665935 0.99000863 0.96063206 0.97675926\n",
            " 0.9977193  1.         0.96774543 0.94222408 0.94293001 0.94102954\n",
            " 0.94673104 0.91159854 0.90589704 0.90844918 0.90996958 0.91301041\n",
            " 0.930821   0.91062117 0.91876626 0.86126194 0.85018457 0.86424848\n",
            " 0.88319935 0.89910946 0.90611421 0.92642266 0.92886617 0.94515636\n",
            " 0.90866452 0.89702934 0.87741274 0.85548019]\n",
            "4 day output [[0.8334002]]\n",
            "5 day input [0.64172454 0.64612288 0.641616   0.64574282 0.63960682 0.6462315\n",
            " 0.63596869 0.6753909  0.68359035 0.66263031 0.64465682 0.63716331\n",
            " 0.63195042 0.62087313 0.62543436 0.63119021 0.642702   0.64742612\n",
            " 0.64422241 0.66702865 0.64981536 0.64422241 0.66447651 0.72067767\n",
            " 0.71160948 0.71535615 0.71720243 0.72713945 0.71888574 0.73642481\n",
            " 0.74266935 0.75510423 0.75575581 0.75591871 0.76227187 0.76938532\n",
            " 0.76151167 0.73968288 0.75651602 0.75657037 0.75819933 0.76362939\n",
            " 0.76884228 0.77850778 0.78024544 0.78849907 0.7809513  0.79403776\n",
            " 0.77356641 0.84975015 0.88189618 0.88824934 0.87874674 0.90144435\n",
            " 0.88852078 0.8634882  0.85159643 0.85512594 0.86017594 0.88287355\n",
            " 0.88748914 0.86859247 0.90187877 0.9209926  0.92794307 0.95395303\n",
            " 0.96198958 0.96665935 0.99000863 0.96063206 0.97675926 0.9977193\n",
            " 1.         0.96774543 0.94222408 0.94293001 0.94102954 0.94673104\n",
            " 0.91159854 0.90589704 0.90844918 0.90996958 0.91301041 0.930821\n",
            " 0.91062117 0.91876626 0.86126194 0.85018457 0.86424848 0.88319935\n",
            " 0.89910946 0.90611421 0.92642266 0.92886617 0.94515636 0.90866452\n",
            " 0.89702934 0.87741274 0.85548019 0.83340019]\n",
            "5 day output [[0.81253123]]\n",
            "6 day input [0.64612288 0.641616   0.64574282 0.63960682 0.6462315  0.63596869\n",
            " 0.6753909  0.68359035 0.66263031 0.64465682 0.63716331 0.63195042\n",
            " 0.62087313 0.62543436 0.63119021 0.642702   0.64742612 0.64422241\n",
            " 0.66702865 0.64981536 0.64422241 0.66447651 0.72067767 0.71160948\n",
            " 0.71535615 0.71720243 0.72713945 0.71888574 0.73642481 0.74266935\n",
            " 0.75510423 0.75575581 0.75591871 0.76227187 0.76938532 0.76151167\n",
            " 0.73968288 0.75651602 0.75657037 0.75819933 0.76362939 0.76884228\n",
            " 0.77850778 0.78024544 0.78849907 0.7809513  0.79403776 0.77356641\n",
            " 0.84975015 0.88189618 0.88824934 0.87874674 0.90144435 0.88852078\n",
            " 0.8634882  0.85159643 0.85512594 0.86017594 0.88287355 0.88748914\n",
            " 0.86859247 0.90187877 0.9209926  0.92794307 0.95395303 0.96198958\n",
            " 0.96665935 0.99000863 0.96063206 0.97675926 0.9977193  1.\n",
            " 0.96774543 0.94222408 0.94293001 0.94102954 0.94673104 0.91159854\n",
            " 0.90589704 0.90844918 0.90996958 0.91301041 0.930821   0.91062117\n",
            " 0.91876626 0.86126194 0.85018457 0.86424848 0.88319935 0.89910946\n",
            " 0.90611421 0.92642266 0.92886617 0.94515636 0.90866452 0.89702934\n",
            " 0.87741274 0.85548019 0.83340019 0.81253123]\n",
            "6 day output [[0.7936553]]\n",
            "7 day input [0.641616   0.64574282 0.63960682 0.6462315  0.63596869 0.6753909\n",
            " 0.68359035 0.66263031 0.64465682 0.63716331 0.63195042 0.62087313\n",
            " 0.62543436 0.63119021 0.642702   0.64742612 0.64422241 0.66702865\n",
            " 0.64981536 0.64422241 0.66447651 0.72067767 0.71160948 0.71535615\n",
            " 0.71720243 0.72713945 0.71888574 0.73642481 0.74266935 0.75510423\n",
            " 0.75575581 0.75591871 0.76227187 0.76938532 0.76151167 0.73968288\n",
            " 0.75651602 0.75657037 0.75819933 0.76362939 0.76884228 0.77850778\n",
            " 0.78024544 0.78849907 0.7809513  0.79403776 0.77356641 0.84975015\n",
            " 0.88189618 0.88824934 0.87874674 0.90144435 0.88852078 0.8634882\n",
            " 0.85159643 0.85512594 0.86017594 0.88287355 0.88748914 0.86859247\n",
            " 0.90187877 0.9209926  0.92794307 0.95395303 0.96198958 0.96665935\n",
            " 0.99000863 0.96063206 0.97675926 0.9977193  1.         0.96774543\n",
            " 0.94222408 0.94293001 0.94102954 0.94673104 0.91159854 0.90589704\n",
            " 0.90844918 0.90996958 0.91301041 0.930821   0.91062117 0.91876626\n",
            " 0.86126194 0.85018457 0.86424848 0.88319935 0.89910946 0.90611421\n",
            " 0.92642266 0.92886617 0.94515636 0.90866452 0.89702934 0.87741274\n",
            " 0.85548019 0.83340019 0.81253123 0.79365528]\n",
            "7 day output [[0.7770253]]\n",
            "8 day input [0.64574282 0.63960682 0.6462315  0.63596869 0.6753909  0.68359035\n",
            " 0.66263031 0.64465682 0.63716331 0.63195042 0.62087313 0.62543436\n",
            " 0.63119021 0.642702   0.64742612 0.64422241 0.66702865 0.64981536\n",
            " 0.64422241 0.66447651 0.72067767 0.71160948 0.71535615 0.71720243\n",
            " 0.72713945 0.71888574 0.73642481 0.74266935 0.75510423 0.75575581\n",
            " 0.75591871 0.76227187 0.76938532 0.76151167 0.73968288 0.75651602\n",
            " 0.75657037 0.75819933 0.76362939 0.76884228 0.77850778 0.78024544\n",
            " 0.78849907 0.7809513  0.79403776 0.77356641 0.84975015 0.88189618\n",
            " 0.88824934 0.87874674 0.90144435 0.88852078 0.8634882  0.85159643\n",
            " 0.85512594 0.86017594 0.88287355 0.88748914 0.86859247 0.90187877\n",
            " 0.9209926  0.92794307 0.95395303 0.96198958 0.96665935 0.99000863\n",
            " 0.96063206 0.97675926 0.9977193  1.         0.96774543 0.94222408\n",
            " 0.94293001 0.94102954 0.94673104 0.91159854 0.90589704 0.90844918\n",
            " 0.90996958 0.91301041 0.930821   0.91062117 0.91876626 0.86126194\n",
            " 0.85018457 0.86424848 0.88319935 0.89910946 0.90611421 0.92642266\n",
            " 0.92886617 0.94515636 0.90866452 0.89702934 0.87741274 0.85548019\n",
            " 0.83340019 0.81253123 0.79365528 0.77702528]\n",
            "8 day output [[0.76250464]]\n",
            "9 day input [0.63960682 0.6462315  0.63596869 0.6753909  0.68359035 0.66263031\n",
            " 0.64465682 0.63716331 0.63195042 0.62087313 0.62543436 0.63119021\n",
            " 0.642702   0.64742612 0.64422241 0.66702865 0.64981536 0.64422241\n",
            " 0.66447651 0.72067767 0.71160948 0.71535615 0.71720243 0.72713945\n",
            " 0.71888574 0.73642481 0.74266935 0.75510423 0.75575581 0.75591871\n",
            " 0.76227187 0.76938532 0.76151167 0.73968288 0.75651602 0.75657037\n",
            " 0.75819933 0.76362939 0.76884228 0.77850778 0.78024544 0.78849907\n",
            " 0.7809513  0.79403776 0.77356641 0.84975015 0.88189618 0.88824934\n",
            " 0.87874674 0.90144435 0.88852078 0.8634882  0.85159643 0.85512594\n",
            " 0.86017594 0.88287355 0.88748914 0.86859247 0.90187877 0.9209926\n",
            " 0.92794307 0.95395303 0.96198958 0.96665935 0.99000863 0.96063206\n",
            " 0.97675926 0.9977193  1.         0.96774543 0.94222408 0.94293001\n",
            " 0.94102954 0.94673104 0.91159854 0.90589704 0.90844918 0.90996958\n",
            " 0.91301041 0.930821   0.91062117 0.91876626 0.86126194 0.85018457\n",
            " 0.86424848 0.88319935 0.89910946 0.90611421 0.92642266 0.92886617\n",
            " 0.94515636 0.90866452 0.89702934 0.87741274 0.85548019 0.83340019\n",
            " 0.81253123 0.79365528 0.77702528 0.76250464]\n",
            "9 day output [[0.7497193]]\n",
            "10 day input [0.6462315  0.63596869 0.6753909  0.68359035 0.66263031 0.64465682\n",
            " 0.63716331 0.63195042 0.62087313 0.62543436 0.63119021 0.642702\n",
            " 0.64742612 0.64422241 0.66702865 0.64981536 0.64422241 0.66447651\n",
            " 0.72067767 0.71160948 0.71535615 0.71720243 0.72713945 0.71888574\n",
            " 0.73642481 0.74266935 0.75510423 0.75575581 0.75591871 0.76227187\n",
            " 0.76938532 0.76151167 0.73968288 0.75651602 0.75657037 0.75819933\n",
            " 0.76362939 0.76884228 0.77850778 0.78024544 0.78849907 0.7809513\n",
            " 0.79403776 0.77356641 0.84975015 0.88189618 0.88824934 0.87874674\n",
            " 0.90144435 0.88852078 0.8634882  0.85159643 0.85512594 0.86017594\n",
            " 0.88287355 0.88748914 0.86859247 0.90187877 0.9209926  0.92794307\n",
            " 0.95395303 0.96198958 0.96665935 0.99000863 0.96063206 0.97675926\n",
            " 0.9977193  1.         0.96774543 0.94222408 0.94293001 0.94102954\n",
            " 0.94673104 0.91159854 0.90589704 0.90844918 0.90996958 0.91301041\n",
            " 0.930821   0.91062117 0.91876626 0.86126194 0.85018457 0.86424848\n",
            " 0.88319935 0.89910946 0.90611421 0.92642266 0.92886617 0.94515636\n",
            " 0.90866452 0.89702934 0.87741274 0.85548019 0.83340019 0.81253123\n",
            " 0.79365528 0.77702528 0.76250464 0.74971932]\n",
            "10 day output [[0.7381884]]\n",
            "11 day input [0.63596869 0.6753909  0.68359035 0.66263031 0.64465682 0.63716331\n",
            " 0.63195042 0.62087313 0.62543436 0.63119021 0.642702   0.64742612\n",
            " 0.64422241 0.66702865 0.64981536 0.64422241 0.66447651 0.72067767\n",
            " 0.71160948 0.71535615 0.71720243 0.72713945 0.71888574 0.73642481\n",
            " 0.74266935 0.75510423 0.75575581 0.75591871 0.76227187 0.76938532\n",
            " 0.76151167 0.73968288 0.75651602 0.75657037 0.75819933 0.76362939\n",
            " 0.76884228 0.77850778 0.78024544 0.78849907 0.7809513  0.79403776\n",
            " 0.77356641 0.84975015 0.88189618 0.88824934 0.87874674 0.90144435\n",
            " 0.88852078 0.8634882  0.85159643 0.85512594 0.86017594 0.88287355\n",
            " 0.88748914 0.86859247 0.90187877 0.9209926  0.92794307 0.95395303\n",
            " 0.96198958 0.96665935 0.99000863 0.96063206 0.97675926 0.9977193\n",
            " 1.         0.96774543 0.94222408 0.94293001 0.94102954 0.94673104\n",
            " 0.91159854 0.90589704 0.90844918 0.90996958 0.91301041 0.930821\n",
            " 0.91062117 0.91876626 0.86126194 0.85018457 0.86424848 0.88319935\n",
            " 0.89910946 0.90611421 0.92642266 0.92886617 0.94515636 0.90866452\n",
            " 0.89702934 0.87741274 0.85548019 0.83340019 0.81253123 0.79365528\n",
            " 0.77702528 0.76250464 0.74971932 0.73818839]\n",
            "11 day output [[0.72742194]]\n",
            "12 day input [0.6753909  0.68359035 0.66263031 0.64465682 0.63716331 0.63195042\n",
            " 0.62087313 0.62543436 0.63119021 0.642702   0.64742612 0.64422241\n",
            " 0.66702865 0.64981536 0.64422241 0.66447651 0.72067767 0.71160948\n",
            " 0.71535615 0.71720243 0.72713945 0.71888574 0.73642481 0.74266935\n",
            " 0.75510423 0.75575581 0.75591871 0.76227187 0.76938532 0.76151167\n",
            " 0.73968288 0.75651602 0.75657037 0.75819933 0.76362939 0.76884228\n",
            " 0.77850778 0.78024544 0.78849907 0.7809513  0.79403776 0.77356641\n",
            " 0.84975015 0.88189618 0.88824934 0.87874674 0.90144435 0.88852078\n",
            " 0.8634882  0.85159643 0.85512594 0.86017594 0.88287355 0.88748914\n",
            " 0.86859247 0.90187877 0.9209926  0.92794307 0.95395303 0.96198958\n",
            " 0.96665935 0.99000863 0.96063206 0.97675926 0.9977193  1.\n",
            " 0.96774543 0.94222408 0.94293001 0.94102954 0.94673104 0.91159854\n",
            " 0.90589704 0.90844918 0.90996958 0.91301041 0.930821   0.91062117\n",
            " 0.91876626 0.86126194 0.85018457 0.86424848 0.88319935 0.89910946\n",
            " 0.90611421 0.92642266 0.92886617 0.94515636 0.90866452 0.89702934\n",
            " 0.87741274 0.85548019 0.83340019 0.81253123 0.79365528 0.77702528\n",
            " 0.76250464 0.74971932 0.73818839 0.72742194]\n",
            "12 day output [[0.7169909]]\n",
            "13 day input [0.68359035 0.66263031 0.64465682 0.63716331 0.63195042 0.62087313\n",
            " 0.62543436 0.63119021 0.642702   0.64742612 0.64422241 0.66702865\n",
            " 0.64981536 0.64422241 0.66447651 0.72067767 0.71160948 0.71535615\n",
            " 0.71720243 0.72713945 0.71888574 0.73642481 0.74266935 0.75510423\n",
            " 0.75575581 0.75591871 0.76227187 0.76938532 0.76151167 0.73968288\n",
            " 0.75651602 0.75657037 0.75819933 0.76362939 0.76884228 0.77850778\n",
            " 0.78024544 0.78849907 0.7809513  0.79403776 0.77356641 0.84975015\n",
            " 0.88189618 0.88824934 0.87874674 0.90144435 0.88852078 0.8634882\n",
            " 0.85159643 0.85512594 0.86017594 0.88287355 0.88748914 0.86859247\n",
            " 0.90187877 0.9209926  0.92794307 0.95395303 0.96198958 0.96665935\n",
            " 0.99000863 0.96063206 0.97675926 0.9977193  1.         0.96774543\n",
            " 0.94222408 0.94293001 0.94102954 0.94673104 0.91159854 0.90589704\n",
            " 0.90844918 0.90996958 0.91301041 0.930821   0.91062117 0.91876626\n",
            " 0.86126194 0.85018457 0.86424848 0.88319935 0.89910946 0.90611421\n",
            " 0.92642266 0.92886617 0.94515636 0.90866452 0.89702934 0.87741274\n",
            " 0.85548019 0.83340019 0.81253123 0.79365528 0.77702528 0.76250464\n",
            " 0.74971932 0.73818839 0.72742194 0.71699089]\n",
            "13 day output [[0.7065677]]\n",
            "14 day input [0.66263031 0.64465682 0.63716331 0.63195042 0.62087313 0.62543436\n",
            " 0.63119021 0.642702   0.64742612 0.64422241 0.66702865 0.64981536\n",
            " 0.64422241 0.66447651 0.72067767 0.71160948 0.71535615 0.71720243\n",
            " 0.72713945 0.71888574 0.73642481 0.74266935 0.75510423 0.75575581\n",
            " 0.75591871 0.76227187 0.76938532 0.76151167 0.73968288 0.75651602\n",
            " 0.75657037 0.75819933 0.76362939 0.76884228 0.77850778 0.78024544\n",
            " 0.78849907 0.7809513  0.79403776 0.77356641 0.84975015 0.88189618\n",
            " 0.88824934 0.87874674 0.90144435 0.88852078 0.8634882  0.85159643\n",
            " 0.85512594 0.86017594 0.88287355 0.88748914 0.86859247 0.90187877\n",
            " 0.9209926  0.92794307 0.95395303 0.96198958 0.96665935 0.99000863\n",
            " 0.96063206 0.97675926 0.9977193  1.         0.96774543 0.94222408\n",
            " 0.94293001 0.94102954 0.94673104 0.91159854 0.90589704 0.90844918\n",
            " 0.90996958 0.91301041 0.930821   0.91062117 0.91876626 0.86126194\n",
            " 0.85018457 0.86424848 0.88319935 0.89910946 0.90611421 0.92642266\n",
            " 0.92886617 0.94515636 0.90866452 0.89702934 0.87741274 0.85548019\n",
            " 0.83340019 0.81253123 0.79365528 0.77702528 0.76250464 0.74971932\n",
            " 0.73818839 0.72742194 0.71699089 0.7065677 ]\n",
            "14 day output [[0.6959451]]\n",
            "15 day input [0.64465682 0.63716331 0.63195042 0.62087313 0.62543436 0.63119021\n",
            " 0.642702   0.64742612 0.64422241 0.66702865 0.64981536 0.64422241\n",
            " 0.66447651 0.72067767 0.71160948 0.71535615 0.71720243 0.72713945\n",
            " 0.71888574 0.73642481 0.74266935 0.75510423 0.75575581 0.75591871\n",
            " 0.76227187 0.76938532 0.76151167 0.73968288 0.75651602 0.75657037\n",
            " 0.75819933 0.76362939 0.76884228 0.77850778 0.78024544 0.78849907\n",
            " 0.7809513  0.79403776 0.77356641 0.84975015 0.88189618 0.88824934\n",
            " 0.87874674 0.90144435 0.88852078 0.8634882  0.85159643 0.85512594\n",
            " 0.86017594 0.88287355 0.88748914 0.86859247 0.90187877 0.9209926\n",
            " 0.92794307 0.95395303 0.96198958 0.96665935 0.99000863 0.96063206\n",
            " 0.97675926 0.9977193  1.         0.96774543 0.94222408 0.94293001\n",
            " 0.94102954 0.94673104 0.91159854 0.90589704 0.90844918 0.90996958\n",
            " 0.91301041 0.930821   0.91062117 0.91876626 0.86126194 0.85018457\n",
            " 0.86424848 0.88319935 0.89910946 0.90611421 0.92642266 0.92886617\n",
            " 0.94515636 0.90866452 0.89702934 0.87741274 0.85548019 0.83340019\n",
            " 0.81253123 0.79365528 0.77702528 0.76250464 0.74971932 0.73818839\n",
            " 0.72742194 0.71699089 0.7065677  0.69594508]\n",
            "15 day output [[0.6850351]]\n",
            "16 day input [0.63716331 0.63195042 0.62087313 0.62543436 0.63119021 0.642702\n",
            " 0.64742612 0.64422241 0.66702865 0.64981536 0.64422241 0.66447651\n",
            " 0.72067767 0.71160948 0.71535615 0.71720243 0.72713945 0.71888574\n",
            " 0.73642481 0.74266935 0.75510423 0.75575581 0.75591871 0.76227187\n",
            " 0.76938532 0.76151167 0.73968288 0.75651602 0.75657037 0.75819933\n",
            " 0.76362939 0.76884228 0.77850778 0.78024544 0.78849907 0.7809513\n",
            " 0.79403776 0.77356641 0.84975015 0.88189618 0.88824934 0.87874674\n",
            " 0.90144435 0.88852078 0.8634882  0.85159643 0.85512594 0.86017594\n",
            " 0.88287355 0.88748914 0.86859247 0.90187877 0.9209926  0.92794307\n",
            " 0.95395303 0.96198958 0.96665935 0.99000863 0.96063206 0.97675926\n",
            " 0.9977193  1.         0.96774543 0.94222408 0.94293001 0.94102954\n",
            " 0.94673104 0.91159854 0.90589704 0.90844918 0.90996958 0.91301041\n",
            " 0.930821   0.91062117 0.91876626 0.86126194 0.85018457 0.86424848\n",
            " 0.88319935 0.89910946 0.90611421 0.92642266 0.92886617 0.94515636\n",
            " 0.90866452 0.89702934 0.87741274 0.85548019 0.83340019 0.81253123\n",
            " 0.79365528 0.77702528 0.76250464 0.74971932 0.73818839 0.72742194\n",
            " 0.71699089 0.7065677  0.69594508 0.68503511]\n",
            "16 day output [[0.67385286]]\n",
            "17 day input [0.63195042 0.62087313 0.62543436 0.63119021 0.642702   0.64742612\n",
            " 0.64422241 0.66702865 0.64981536 0.64422241 0.66447651 0.72067767\n",
            " 0.71160948 0.71535615 0.71720243 0.72713945 0.71888574 0.73642481\n",
            " 0.74266935 0.75510423 0.75575581 0.75591871 0.76227187 0.76938532\n",
            " 0.76151167 0.73968288 0.75651602 0.75657037 0.75819933 0.76362939\n",
            " 0.76884228 0.77850778 0.78024544 0.78849907 0.7809513  0.79403776\n",
            " 0.77356641 0.84975015 0.88189618 0.88824934 0.87874674 0.90144435\n",
            " 0.88852078 0.8634882  0.85159643 0.85512594 0.86017594 0.88287355\n",
            " 0.88748914 0.86859247 0.90187877 0.9209926  0.92794307 0.95395303\n",
            " 0.96198958 0.96665935 0.99000863 0.96063206 0.97675926 0.9977193\n",
            " 1.         0.96774543 0.94222408 0.94293001 0.94102954 0.94673104\n",
            " 0.91159854 0.90589704 0.90844918 0.90996958 0.91301041 0.930821\n",
            " 0.91062117 0.91876626 0.86126194 0.85018457 0.86424848 0.88319935\n",
            " 0.89910946 0.90611421 0.92642266 0.92886617 0.94515636 0.90866452\n",
            " 0.89702934 0.87741274 0.85548019 0.83340019 0.81253123 0.79365528\n",
            " 0.77702528 0.76250464 0.74971932 0.73818839 0.72742194 0.71699089\n",
            " 0.7065677  0.69594508 0.68503511 0.67385286]\n",
            "17 day output [[0.662491]]\n",
            "18 day input [0.62087313 0.62543436 0.63119021 0.642702   0.64742612 0.64422241\n",
            " 0.66702865 0.64981536 0.64422241 0.66447651 0.72067767 0.71160948\n",
            " 0.71535615 0.71720243 0.72713945 0.71888574 0.73642481 0.74266935\n",
            " 0.75510423 0.75575581 0.75591871 0.76227187 0.76938532 0.76151167\n",
            " 0.73968288 0.75651602 0.75657037 0.75819933 0.76362939 0.76884228\n",
            " 0.77850778 0.78024544 0.78849907 0.7809513  0.79403776 0.77356641\n",
            " 0.84975015 0.88189618 0.88824934 0.87874674 0.90144435 0.88852078\n",
            " 0.8634882  0.85159643 0.85512594 0.86017594 0.88287355 0.88748914\n",
            " 0.86859247 0.90187877 0.9209926  0.92794307 0.95395303 0.96198958\n",
            " 0.96665935 0.99000863 0.96063206 0.97675926 0.9977193  1.\n",
            " 0.96774543 0.94222408 0.94293001 0.94102954 0.94673104 0.91159854\n",
            " 0.90589704 0.90844918 0.90996958 0.91301041 0.930821   0.91062117\n",
            " 0.91876626 0.86126194 0.85018457 0.86424848 0.88319935 0.89910946\n",
            " 0.90611421 0.92642266 0.92886617 0.94515636 0.90866452 0.89702934\n",
            " 0.87741274 0.85548019 0.83340019 0.81253123 0.79365528 0.77702528\n",
            " 0.76250464 0.74971932 0.73818839 0.72742194 0.71699089 0.7065677\n",
            " 0.69594508 0.68503511 0.67385286 0.66249102]\n",
            "18 day output [[0.6510905]]\n",
            "19 day input [0.62543436 0.63119021 0.642702   0.64742612 0.64422241 0.66702865\n",
            " 0.64981536 0.64422241 0.66447651 0.72067767 0.71160948 0.71535615\n",
            " 0.71720243 0.72713945 0.71888574 0.73642481 0.74266935 0.75510423\n",
            " 0.75575581 0.75591871 0.76227187 0.76938532 0.76151167 0.73968288\n",
            " 0.75651602 0.75657037 0.75819933 0.76362939 0.76884228 0.77850778\n",
            " 0.78024544 0.78849907 0.7809513  0.79403776 0.77356641 0.84975015\n",
            " 0.88189618 0.88824934 0.87874674 0.90144435 0.88852078 0.8634882\n",
            " 0.85159643 0.85512594 0.86017594 0.88287355 0.88748914 0.86859247\n",
            " 0.90187877 0.9209926  0.92794307 0.95395303 0.96198958 0.96665935\n",
            " 0.99000863 0.96063206 0.97675926 0.9977193  1.         0.96774543\n",
            " 0.94222408 0.94293001 0.94102954 0.94673104 0.91159854 0.90589704\n",
            " 0.90844918 0.90996958 0.91301041 0.930821   0.91062117 0.91876626\n",
            " 0.86126194 0.85018457 0.86424848 0.88319935 0.89910946 0.90611421\n",
            " 0.92642266 0.92886617 0.94515636 0.90866452 0.89702934 0.87741274\n",
            " 0.85548019 0.83340019 0.81253123 0.79365528 0.77702528 0.76250464\n",
            " 0.74971932 0.73818839 0.72742194 0.71699089 0.7065677  0.69594508\n",
            " 0.68503511 0.67385286 0.66249102 0.6510905 ]\n",
            "19 day output [[0.63981056]]\n",
            "20 day input [0.63119021 0.642702   0.64742612 0.64422241 0.66702865 0.64981536\n",
            " 0.64422241 0.66447651 0.72067767 0.71160948 0.71535615 0.71720243\n",
            " 0.72713945 0.71888574 0.73642481 0.74266935 0.75510423 0.75575581\n",
            " 0.75591871 0.76227187 0.76938532 0.76151167 0.73968288 0.75651602\n",
            " 0.75657037 0.75819933 0.76362939 0.76884228 0.77850778 0.78024544\n",
            " 0.78849907 0.7809513  0.79403776 0.77356641 0.84975015 0.88189618\n",
            " 0.88824934 0.87874674 0.90144435 0.88852078 0.8634882  0.85159643\n",
            " 0.85512594 0.86017594 0.88287355 0.88748914 0.86859247 0.90187877\n",
            " 0.9209926  0.92794307 0.95395303 0.96198958 0.96665935 0.99000863\n",
            " 0.96063206 0.97675926 0.9977193  1.         0.96774543 0.94222408\n",
            " 0.94293001 0.94102954 0.94673104 0.91159854 0.90589704 0.90844918\n",
            " 0.90996958 0.91301041 0.930821   0.91062117 0.91876626 0.86126194\n",
            " 0.85018457 0.86424848 0.88319935 0.89910946 0.90611421 0.92642266\n",
            " 0.92886617 0.94515636 0.90866452 0.89702934 0.87741274 0.85548019\n",
            " 0.83340019 0.81253123 0.79365528 0.77702528 0.76250464 0.74971932\n",
            " 0.73818839 0.72742194 0.71699089 0.7065677  0.69594508 0.68503511\n",
            " 0.67385286 0.66249102 0.6510905  0.63981056]\n",
            "20 day output [[0.6288052]]\n",
            "21 day input [0.642702   0.64742612 0.64422241 0.66702865 0.64981536 0.64422241\n",
            " 0.66447651 0.72067767 0.71160948 0.71535615 0.71720243 0.72713945\n",
            " 0.71888574 0.73642481 0.74266935 0.75510423 0.75575581 0.75591871\n",
            " 0.76227187 0.76938532 0.76151167 0.73968288 0.75651602 0.75657037\n",
            " 0.75819933 0.76362939 0.76884228 0.77850778 0.78024544 0.78849907\n",
            " 0.7809513  0.79403776 0.77356641 0.84975015 0.88189618 0.88824934\n",
            " 0.87874674 0.90144435 0.88852078 0.8634882  0.85159643 0.85512594\n",
            " 0.86017594 0.88287355 0.88748914 0.86859247 0.90187877 0.9209926\n",
            " 0.92794307 0.95395303 0.96198958 0.96665935 0.99000863 0.96063206\n",
            " 0.97675926 0.9977193  1.         0.96774543 0.94222408 0.94293001\n",
            " 0.94102954 0.94673104 0.91159854 0.90589704 0.90844918 0.90996958\n",
            " 0.91301041 0.930821   0.91062117 0.91876626 0.86126194 0.85018457\n",
            " 0.86424848 0.88319935 0.89910946 0.90611421 0.92642266 0.92886617\n",
            " 0.94515636 0.90866452 0.89702934 0.87741274 0.85548019 0.83340019\n",
            " 0.81253123 0.79365528 0.77702528 0.76250464 0.74971932 0.73818839\n",
            " 0.72742194 0.71699089 0.7065677  0.69594508 0.68503511 0.67385286\n",
            " 0.66249102 0.6510905  0.63981056 0.62880522]\n",
            "21 day output [[0.6182055]]\n",
            "22 day input [0.64742612 0.64422241 0.66702865 0.64981536 0.64422241 0.66447651\n",
            " 0.72067767 0.71160948 0.71535615 0.71720243 0.72713945 0.71888574\n",
            " 0.73642481 0.74266935 0.75510423 0.75575581 0.75591871 0.76227187\n",
            " 0.76938532 0.76151167 0.73968288 0.75651602 0.75657037 0.75819933\n",
            " 0.76362939 0.76884228 0.77850778 0.78024544 0.78849907 0.7809513\n",
            " 0.79403776 0.77356641 0.84975015 0.88189618 0.88824934 0.87874674\n",
            " 0.90144435 0.88852078 0.8634882  0.85159643 0.85512594 0.86017594\n",
            " 0.88287355 0.88748914 0.86859247 0.90187877 0.9209926  0.92794307\n",
            " 0.95395303 0.96198958 0.96665935 0.99000863 0.96063206 0.97675926\n",
            " 0.9977193  1.         0.96774543 0.94222408 0.94293001 0.94102954\n",
            " 0.94673104 0.91159854 0.90589704 0.90844918 0.90996958 0.91301041\n",
            " 0.930821   0.91062117 0.91876626 0.86126194 0.85018457 0.86424848\n",
            " 0.88319935 0.89910946 0.90611421 0.92642266 0.92886617 0.94515636\n",
            " 0.90866452 0.89702934 0.87741274 0.85548019 0.83340019 0.81253123\n",
            " 0.79365528 0.77702528 0.76250464 0.74971932 0.73818839 0.72742194\n",
            " 0.71699089 0.7065677  0.69594508 0.68503511 0.67385286 0.66249102\n",
            " 0.6510905  0.63981056 0.62880522 0.61820549]\n",
            "22 day output [[0.608108]]\n",
            "23 day input [0.64422241 0.66702865 0.64981536 0.64422241 0.66447651 0.72067767\n",
            " 0.71160948 0.71535615 0.71720243 0.72713945 0.71888574 0.73642481\n",
            " 0.74266935 0.75510423 0.75575581 0.75591871 0.76227187 0.76938532\n",
            " 0.76151167 0.73968288 0.75651602 0.75657037 0.75819933 0.76362939\n",
            " 0.76884228 0.77850778 0.78024544 0.78849907 0.7809513  0.79403776\n",
            " 0.77356641 0.84975015 0.88189618 0.88824934 0.87874674 0.90144435\n",
            " 0.88852078 0.8634882  0.85159643 0.85512594 0.86017594 0.88287355\n",
            " 0.88748914 0.86859247 0.90187877 0.9209926  0.92794307 0.95395303\n",
            " 0.96198958 0.96665935 0.99000863 0.96063206 0.97675926 0.9977193\n",
            " 1.         0.96774543 0.94222408 0.94293001 0.94102954 0.94673104\n",
            " 0.91159854 0.90589704 0.90844918 0.90996958 0.91301041 0.930821\n",
            " 0.91062117 0.91876626 0.86126194 0.85018457 0.86424848 0.88319935\n",
            " 0.89910946 0.90611421 0.92642266 0.92886617 0.94515636 0.90866452\n",
            " 0.89702934 0.87741274 0.85548019 0.83340019 0.81253123 0.79365528\n",
            " 0.77702528 0.76250464 0.74971932 0.73818839 0.72742194 0.71699089\n",
            " 0.7065677  0.69594508 0.68503511 0.67385286 0.66249102 0.6510905\n",
            " 0.63981056 0.62880522 0.61820549 0.60810798]\n",
            "23 day output [[0.5985727]]\n",
            "24 day input [0.66702865 0.64981536 0.64422241 0.66447651 0.72067767 0.71160948\n",
            " 0.71535615 0.71720243 0.72713945 0.71888574 0.73642481 0.74266935\n",
            " 0.75510423 0.75575581 0.75591871 0.76227187 0.76938532 0.76151167\n",
            " 0.73968288 0.75651602 0.75657037 0.75819933 0.76362939 0.76884228\n",
            " 0.77850778 0.78024544 0.78849907 0.7809513  0.79403776 0.77356641\n",
            " 0.84975015 0.88189618 0.88824934 0.87874674 0.90144435 0.88852078\n",
            " 0.8634882  0.85159643 0.85512594 0.86017594 0.88287355 0.88748914\n",
            " 0.86859247 0.90187877 0.9209926  0.92794307 0.95395303 0.96198958\n",
            " 0.96665935 0.99000863 0.96063206 0.97675926 0.9977193  1.\n",
            " 0.96774543 0.94222408 0.94293001 0.94102954 0.94673104 0.91159854\n",
            " 0.90589704 0.90844918 0.90996958 0.91301041 0.930821   0.91062117\n",
            " 0.91876626 0.86126194 0.85018457 0.86424848 0.88319935 0.89910946\n",
            " 0.90611421 0.92642266 0.92886617 0.94515636 0.90866452 0.89702934\n",
            " 0.87741274 0.85548019 0.83340019 0.81253123 0.79365528 0.77702528\n",
            " 0.76250464 0.74971932 0.73818839 0.72742194 0.71699089 0.7065677\n",
            " 0.69594508 0.68503511 0.67385286 0.66249102 0.6510905  0.63981056\n",
            " 0.62880522 0.61820549 0.60810798 0.59857267]\n",
            "24 day output [[0.5896235]]\n",
            "25 day input [0.64981536 0.64422241 0.66447651 0.72067767 0.71160948 0.71535615\n",
            " 0.71720243 0.72713945 0.71888574 0.73642481 0.74266935 0.75510423\n",
            " 0.75575581 0.75591871 0.76227187 0.76938532 0.76151167 0.73968288\n",
            " 0.75651602 0.75657037 0.75819933 0.76362939 0.76884228 0.77850778\n",
            " 0.78024544 0.78849907 0.7809513  0.79403776 0.77356641 0.84975015\n",
            " 0.88189618 0.88824934 0.87874674 0.90144435 0.88852078 0.8634882\n",
            " 0.85159643 0.85512594 0.86017594 0.88287355 0.88748914 0.86859247\n",
            " 0.90187877 0.9209926  0.92794307 0.95395303 0.96198958 0.96665935\n",
            " 0.99000863 0.96063206 0.97675926 0.9977193  1.         0.96774543\n",
            " 0.94222408 0.94293001 0.94102954 0.94673104 0.91159854 0.90589704\n",
            " 0.90844918 0.90996958 0.91301041 0.930821   0.91062117 0.91876626\n",
            " 0.86126194 0.85018457 0.86424848 0.88319935 0.89910946 0.90611421\n",
            " 0.92642266 0.92886617 0.94515636 0.90866452 0.89702934 0.87741274\n",
            " 0.85548019 0.83340019 0.81253123 0.79365528 0.77702528 0.76250464\n",
            " 0.74971932 0.73818839 0.72742194 0.71699089 0.7065677  0.69594508\n",
            " 0.68503511 0.67385286 0.66249102 0.6510905  0.63981056 0.62880522\n",
            " 0.61820549 0.60810798 0.59857267 0.58962351]\n",
            "25 day output [[0.58125395]]\n",
            "26 day input [0.64422241 0.66447651 0.72067767 0.71160948 0.71535615 0.71720243\n",
            " 0.72713945 0.71888574 0.73642481 0.74266935 0.75510423 0.75575581\n",
            " 0.75591871 0.76227187 0.76938532 0.76151167 0.73968288 0.75651602\n",
            " 0.75657037 0.75819933 0.76362939 0.76884228 0.77850778 0.78024544\n",
            " 0.78849907 0.7809513  0.79403776 0.77356641 0.84975015 0.88189618\n",
            " 0.88824934 0.87874674 0.90144435 0.88852078 0.8634882  0.85159643\n",
            " 0.85512594 0.86017594 0.88287355 0.88748914 0.86859247 0.90187877\n",
            " 0.9209926  0.92794307 0.95395303 0.96198958 0.96665935 0.99000863\n",
            " 0.96063206 0.97675926 0.9977193  1.         0.96774543 0.94222408\n",
            " 0.94293001 0.94102954 0.94673104 0.91159854 0.90589704 0.90844918\n",
            " 0.90996958 0.91301041 0.930821   0.91062117 0.91876626 0.86126194\n",
            " 0.85018457 0.86424848 0.88319935 0.89910946 0.90611421 0.92642266\n",
            " 0.92886617 0.94515636 0.90866452 0.89702934 0.87741274 0.85548019\n",
            " 0.83340019 0.81253123 0.79365528 0.77702528 0.76250464 0.74971932\n",
            " 0.73818839 0.72742194 0.71699089 0.7065677  0.69594508 0.68503511\n",
            " 0.67385286 0.66249102 0.6510905  0.63981056 0.62880522 0.61820549\n",
            " 0.60810798 0.59857267 0.58962351 0.58125395]\n",
            "26 day output [[0.57343394]]\n",
            "27 day input [0.66447651 0.72067767 0.71160948 0.71535615 0.71720243 0.72713945\n",
            " 0.71888574 0.73642481 0.74266935 0.75510423 0.75575581 0.75591871\n",
            " 0.76227187 0.76938532 0.76151167 0.73968288 0.75651602 0.75657037\n",
            " 0.75819933 0.76362939 0.76884228 0.77850778 0.78024544 0.78849907\n",
            " 0.7809513  0.79403776 0.77356641 0.84975015 0.88189618 0.88824934\n",
            " 0.87874674 0.90144435 0.88852078 0.8634882  0.85159643 0.85512594\n",
            " 0.86017594 0.88287355 0.88748914 0.86859247 0.90187877 0.9209926\n",
            " 0.92794307 0.95395303 0.96198958 0.96665935 0.99000863 0.96063206\n",
            " 0.97675926 0.9977193  1.         0.96774543 0.94222408 0.94293001\n",
            " 0.94102954 0.94673104 0.91159854 0.90589704 0.90844918 0.90996958\n",
            " 0.91301041 0.930821   0.91062117 0.91876626 0.86126194 0.85018457\n",
            " 0.86424848 0.88319935 0.89910946 0.90611421 0.92642266 0.92886617\n",
            " 0.94515636 0.90866452 0.89702934 0.87741274 0.85548019 0.83340019\n",
            " 0.81253123 0.79365528 0.77702528 0.76250464 0.74971932 0.73818839\n",
            " 0.72742194 0.71699089 0.7065677  0.69594508 0.68503511 0.67385286\n",
            " 0.66249102 0.6510905  0.63981056 0.62880522 0.61820549 0.60810798\n",
            " 0.59857267 0.58962351 0.58125395 0.57343394]\n",
            "27 day output [[0.5661176]]\n",
            "28 day input [0.72067767 0.71160948 0.71535615 0.71720243 0.72713945 0.71888574\n",
            " 0.73642481 0.74266935 0.75510423 0.75575581 0.75591871 0.76227187\n",
            " 0.76938532 0.76151167 0.73968288 0.75651602 0.75657037 0.75819933\n",
            " 0.76362939 0.76884228 0.77850778 0.78024544 0.78849907 0.7809513\n",
            " 0.79403776 0.77356641 0.84975015 0.88189618 0.88824934 0.87874674\n",
            " 0.90144435 0.88852078 0.8634882  0.85159643 0.85512594 0.86017594\n",
            " 0.88287355 0.88748914 0.86859247 0.90187877 0.9209926  0.92794307\n",
            " 0.95395303 0.96198958 0.96665935 0.99000863 0.96063206 0.97675926\n",
            " 0.9977193  1.         0.96774543 0.94222408 0.94293001 0.94102954\n",
            " 0.94673104 0.91159854 0.90589704 0.90844918 0.90996958 0.91301041\n",
            " 0.930821   0.91062117 0.91876626 0.86126194 0.85018457 0.86424848\n",
            " 0.88319935 0.89910946 0.90611421 0.92642266 0.92886617 0.94515636\n",
            " 0.90866452 0.89702934 0.87741274 0.85548019 0.83340019 0.81253123\n",
            " 0.79365528 0.77702528 0.76250464 0.74971932 0.73818839 0.72742194\n",
            " 0.71699089 0.7065677  0.69594508 0.68503511 0.67385286 0.66249102\n",
            " 0.6510905  0.63981056 0.62880522 0.61820549 0.60810798 0.59857267\n",
            " 0.58962351 0.58125395 0.57343394 0.56611758]\n",
            "28 day output [[0.55925083]]\n",
            "29 day input [0.71160948 0.71535615 0.71720243 0.72713945 0.71888574 0.73642481\n",
            " 0.74266935 0.75510423 0.75575581 0.75591871 0.76227187 0.76938532\n",
            " 0.76151167 0.73968288 0.75651602 0.75657037 0.75819933 0.76362939\n",
            " 0.76884228 0.77850778 0.78024544 0.78849907 0.7809513  0.79403776\n",
            " 0.77356641 0.84975015 0.88189618 0.88824934 0.87874674 0.90144435\n",
            " 0.88852078 0.8634882  0.85159643 0.85512594 0.86017594 0.88287355\n",
            " 0.88748914 0.86859247 0.90187877 0.9209926  0.92794307 0.95395303\n",
            " 0.96198958 0.96665935 0.99000863 0.96063206 0.97675926 0.9977193\n",
            " 1.         0.96774543 0.94222408 0.94293001 0.94102954 0.94673104\n",
            " 0.91159854 0.90589704 0.90844918 0.90996958 0.91301041 0.930821\n",
            " 0.91062117 0.91876626 0.86126194 0.85018457 0.86424848 0.88319935\n",
            " 0.89910946 0.90611421 0.92642266 0.92886617 0.94515636 0.90866452\n",
            " 0.89702934 0.87741274 0.85548019 0.83340019 0.81253123 0.79365528\n",
            " 0.77702528 0.76250464 0.74971932 0.73818839 0.72742194 0.71699089\n",
            " 0.7065677  0.69594508 0.68503511 0.67385286 0.66249102 0.6510905\n",
            " 0.63981056 0.62880522 0.61820549 0.60810798 0.59857267 0.58962351\n",
            " 0.58125395 0.57343394 0.56611758 0.55925083]\n",
            "29 day output [[0.55277723]]\n",
            "[[0.9086645245552063], [0.8970293402671814], [0.877412736415863], [0.8554801940917969], [0.8334001898765564], [0.8125312328338623], [0.793655276298523], [0.7770252823829651], [0.7625046372413635], [0.7497193217277527], [0.7381883859634399], [0.7274219393730164], [0.7169908881187439], [0.7065677046775818], [0.6959450840950012], [0.6850351095199585], [0.6738528609275818], [0.6624910235404968], [0.6510905027389526], [0.6398105621337891], [0.6288052201271057], [0.6182054877281189], [0.6081079840660095], [0.5985726714134216], [0.5896235108375549], [0.5812539458274841], [0.5734339356422424], [0.5661175847053528], [0.5592508316040039], [0.5527772307395935]]\n"
          ]
        }
      ]
    },
    {
      "cell_type": "code",
      "source": [
        "day_new=np.arange(1,101)\n",
        "day_pred=np.arange(101,131)"
      ],
      "metadata": {
        "id": "ajVloeXk-64K"
      },
      "execution_count": 36,
      "outputs": []
    },
    {
      "cell_type": "code",
      "source": [
        "import matplotlib.pyplot as plt"
      ],
      "metadata": {
        "id": "Vxed3ya__MZL"
      },
      "execution_count": 37,
      "outputs": []
    },
    {
      "cell_type": "code",
      "source": [
        "len(df1)"
      ],
      "metadata": {
        "colab": {
          "base_uri": "https://localhost:8080/"
        },
        "id": "bvivHk6W_OdD",
        "outputId": "2b5496e8-c4e1-4aa1-f178-4f9fd65a6da5"
      },
      "execution_count": 38,
      "outputs": [
        {
          "output_type": "execute_result",
          "data": {
            "text/plain": [
              "1258"
            ]
          },
          "metadata": {},
          "execution_count": 38
        }
      ]
    },
    {
      "cell_type": "code",
      "source": [
        "plt.plot(day_new,scaler.inverse_transform(df1[1158:]))\n",
        "plt.plot(day_pred,scaler.inverse_transform(lst_output))"
      ],
      "metadata": {
        "colab": {
          "base_uri": "https://localhost:8080/",
          "height": 447
        },
        "id": "fX3fsM8B_P2g",
        "outputId": "f4fec51c-882d-47cd-f63c-ca6b70033c3b"
      },
      "execution_count": 39,
      "outputs": [
        {
          "output_type": "execute_result",
          "data": {
            "text/plain": [
              "[<matplotlib.lines.Line2D at 0x799b590236d0>]"
            ]
          },
          "metadata": {},
          "execution_count": 39
        },
        {
          "output_type": "display_data",
          "data": {
            "text/plain": [
              "<Figure size 640x480 with 1 Axes>"
            ],
            "image/png": "[encoded data removed]"
          },
          "metadata": {}
        }
      ]
    },
    {
      "cell_type": "code",
      "source": [
        "df3=df1.tolist()\n",
        "df3.extend(lst_output)\n",
        "plt.plot(df3[1200:])"
      ],
      "metadata": {
        "colab": {
          "base_uri": "https://localhost:8080/",
          "height": 447
        },
        "id": "haJaHtCc_SLx",
        "outputId": "8c67d5ee-a21a-4568-a0ef-33a3bf9a6010"
      },
      "execution_count": 41,
      "outputs": [
        {
          "output_type": "execute_result",
          "data": {
            "text/plain": [
              "[<matplotlib.lines.Line2D at 0x799b58f12fd0>]"
            ]
          },
          "metadata": {},
          "execution_count": 41
        },
        {
          "output_type": "display_data",
          "data": {
            "text/plain": [
              "<Figure size 640x480 with 1 Axes>"
            ],
            "image/png": "[encoded data removed]"
          },
          "metadata": {}
        }
      ]
    },
    {
      "cell_type": "code",
      "source": [
        "df3=scaler.inverse_transform(df3).tolist()"
      ],
      "metadata": {
        "id": "DT3M6jSQ_wyN"
      },
      "execution_count": 42,
      "outputs": []
    },
    {
      "cell_type": "code",
      "source": [
        "plt.plot(df3)"
      ],
      "metadata": {
        "colab": {
          "base_uri": "https://localhost:8080/",
          "height": 447
        },
        "id": "7J-rOED0_yca",
        "outputId": "2f8611cf-4187-41e0-99af-72ff8286ddde"
      },
      "execution_count": 43,
      "outputs": [
        {
          "output_type": "execute_result",
          "data": {
            "text/plain": [
              "[<matplotlib.lines.Line2D at 0x799b58eea790>]"
            ]
          },
          "metadata": {},
          "execution_count": 43
        },
        {
          "output_type": "display_data",
          "data": {
            "text/plain": [
              "<Figure size 640x480 with 1 Axes>"
            ],
            "image/png": "[encoded data removed]"
          },
          "metadata": {}
        }
      ]
    },
    {
      "cell_type": "code",
      "source": [
        "plt.figure(figsize=(10,6))\n",
        "plt.plot(day_new, scaler.inverse_transform(df1[1158:]), label=\"Actual Price\", color='blue')\n",
        "plt.plot(day_pred, scaler.inverse_transform(lst_output), label=\"Predicted Price (Next 30 Days)\", color='orange')\n",
        "plt.xlabel(\"Days\")\n",
        "plt.ylabel(\"Price\")\n",
        "plt.title(\"Stock Price Prediction using LSTM\")\n",
        "plt.legend()\n",
        "plt.grid(True)\n",
        "plt.show()\n"
      ],
      "metadata": {
        "colab": {
          "base_uri": "https://localhost:8080/",
          "height": 564
        },
        "id": "EpDaGZbv_0DT",
        "outputId": "29159bb9-30a3-4503-d6d9-f6b8d4898df1"
      },
      "execution_count": 44,
      "outputs": [
        {
          "output_type": "display_data",
          "data": {
            "text/plain": [
              "<Figure size 1000x600 with 1 Axes>"
            ],
            "image/png": "[encoded data removed]"
          },
          "metadata": {}
        }
      ]
    },
    {
      "cell_type": "code",
      "source": [
        "model.save(\"lstm_stock_model.h5\")\n"
      ],
      "metadata": {
        "colab": {
          "base_uri": "https://localhost:8080/"
        },
        "id": "cLn_V7p7AESQ",
        "outputId": "dbba6447-e315-4289-cc56-d7603e250405"
      },
      "execution_count": 45,
      "outputs": [
        {
          "output_type": "stream",
          "name": "stderr",
          "text": [
            "WARNING:absl:You are saving your model as an HDF5 file via `model.save()` or `keras.saving.save_model(model)`. This file format is considered legacy. We recommend using instead the native Keras format, e.g. `model.save('my_model.keras')` or `keras.saving.save_model(model, 'my_model.keras')`. \n"
          ]
        }
      ]
    },
    {
      "cell_type": "code",
      "source": [],
      "metadata": {
        "id": "TD_aw0hTAE1u"
      },
      "execution_count": null,
      "outputs": []
    }
  ]
}